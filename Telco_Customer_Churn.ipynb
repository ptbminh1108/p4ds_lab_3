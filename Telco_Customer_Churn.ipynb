{
 "cells": [
  {
   "cell_type": "markdown",
   "metadata": {},
   "source": [
    "# Đồ án môn Programming for Data Science"
   ]
  },
  {
   "cell_type": "markdown",
   "metadata": {},
   "source": [
    "### Sinh viên\n",
    "    1.18120210            Phạm Tống Bình Minh\n",
    "    2.18120209            Phạm Nhật Minh"
   ]
  },
  {
   "cell_type": "markdown",
   "metadata": {},
   "source": [
    "## Import thư viện"
   ]
  },
  {
   "cell_type": "code",
   "execution_count": null,
   "metadata": {},
   "outputs": [],
   "source": [
    "import pandas as pd\n",
    "import numpy as np\n",
    "import matplotlib.pyplot as plt\n",
    "import seaborn as sns"
   ]
  },
  {
   "cell_type": "code",
   "execution_count": null,
   "metadata": {},
   "outputs": [],
   "source": [
    "\n",
    "pd.set_option('max_colwidth', None)\n",
    "#pd.set_option('display.max_rows', None)\n",
    "pd.set_option('display.max_columns', None)\n",
    "#pd.set_option('display.width', None)"
   ]
  },
  {
   "cell_type": "code",
   "execution_count": null,
   "metadata": {},
   "outputs": [],
   "source": [
    "plt.style.use('Solarize_Light2')"
   ]
  },
  {
   "cell_type": "markdown",
   "metadata": {},
   "source": [
    "## Nguồn dữ liệu"
   ]
  },
  {
   "cell_type": "markdown",
   "metadata": {},
   "source": [
    "Nhóm em sử dụng dữ liệu nói về thông tin khách hàng của một công tin viễn thông cung cấp dịch vụ điện thoại và internet cho 7-43 hộ dân tại Califonia trong quý 3.Thông tin cho biết khách hàng nào đã rời đi, ở lại hoặc đăng ký dịch vụ của công ty.\n",
    "\n",
    "Dữ liệu này được public trên Kaggle([Telco Customer Churn](https://www.kaggle.com/blastchar/telco-customer-churn)). Phần đầy đủ của dữ liệu tại [IBM](https://community.ibm.com/community/user/businessanalytics/blogs/steven-macko/2019/07/11/telco-customer-churn-1113)"
   ]
  },
  {
   "cell_type": "markdown",
   "metadata": {},
   "source": [
    "## Đọc dữ liệu"
   ]
  },
  {
   "cell_type": "code",
   "execution_count": null,
   "metadata": {},
   "outputs": [],
   "source": [
    "df = pd.read_csv(\"data.csv\")"
   ]
  },
  {
   "cell_type": "code",
   "execution_count": null,
   "metadata": {},
   "outputs": [],
   "source": [
    "df.head()"
   ]
  },
  {
   "cell_type": "markdown",
   "metadata": {},
   "source": [
    "## Khám phá dữ liệu"
   ]
  },
  {
   "cell_type": "code",
   "execution_count": null,
   "metadata": {},
   "outputs": [],
   "source": [
    "df.shape"
   ]
  },
  {
   "cell_type": "markdown",
   "metadata": {},
   "source": [
    "Dữ liệu có 7043 dòng và 21 cột"
   ]
  },
  {
   "cell_type": "markdown",
   "metadata": {},
   "source": [
    "### Dữ liệu có các dòng bị lặp không?"
   ]
  },
  {
   "cell_type": "code",
   "execution_count": null,
   "metadata": {},
   "outputs": [],
   "source": [
    "df.duplicated().sum()"
   ]
  },
  {
   "cell_type": "markdown",
   "metadata": {},
   "source": [
    "dữ liệu không bị lặp"
   ]
  },
  {
   "cell_type": "markdown",
   "metadata": {},
   "source": [
    "### Xem ý nghĩa của các cột"
   ]
  },
  {
   "cell_type": "markdown",
   "metadata": {},
   "source": [
    "Dưới đây là phần mô tả của các cột trong tập dữ liệu\n",
    "\n",
    "- **CustomerID**: Định danh duy nhất mỗi khách hàng\n",
    "- **gender** : Giới tính (male or female)\n",
    "- **SeniorCitizen**: Khách hàng là người cao tuổi (1: có , 0: không)\n",
    "- **Partner**: Khách hàng có vợ hoặc chồng hay không (Yes, No)\n",
    "- **Dependents**: Khách hàng có người phụ thuộc hay không (Yes, No)\n",
    "- **tenure**: Số tháng khách hàng duy trì dịch vụ với công ty \n",
    "- **PhoneService**: Khách hàng có sử dụng dịch vụ điện thoại hay không\n",
    "- **MultipleLines**: Khách hàng có sử dụng dịch vụ \"MultipleLines\" hay không (Yes, No, No phone service)\n",
    "- **InternetService**: Khách hàng có sử dụng dịch vụ Internet hay không (DSL, Fiber optic, No)\n",
    "- **OnlineSecurity**: Khách hàng có sử dụng dịch vụ \"OnlineSecurity\" hay không (Yes, No, No internet service)\n",
    "- **OnlineBackup**: Khách hàng có sử dụng dịch vụ \"OnlineBackup\" hay không (Yes, No, No internet service)\n",
    "- **DeviceProtection**: Khách hàng có sử dụng dịch vụ \"DeviceProtection\" hay không (Yes, No, No internet service)\n",
    "- **TechSupport**: Khách hàng có sử dụng dịch vụ \"TechSupport\" hay không (Yes, No, No internet service)\n",
    "- **StreamingTV**: Khách hàng có sử dụng dịch vụ \"StreamingTV\" hay không (Yes, No, No internet service)\n",
    "- **StreamingMovies**: Khách hàng có sử dụng dịch vụ \"StreamingMovies\" hay không (Yes, No, No internet service)\n",
    "- **Contract**: Thời hạn hợp động dịch vụ (Month-to-month, One year, Two year)\n",
    "- **PaperlessBilling**: Hóa đơn điện tử (Yes or No)\n",
    "- **PaymentMethod**: Phương thức thanh toán (Electronic check, Mailed check, Bank transfer (automatic), Credit card (automatic))\n",
    "- **MonthlyCharges**: Chi phí dịch vụ hàng tháng\n",
    "- **TotalCharges**: Tổng chi phí dịch phụ khách hàng trả\n",
    "- **Churn**: Khách hàng có cắt hợp đồng dịch vụ không"
   ]
  },
  {
   "cell_type": "markdown",
   "metadata": {},
   "source": [
    "### Xem tỉ lệ dữ liệu bị thiếu"
   ]
  },
  {
   "cell_type": "code",
   "execution_count": null,
   "metadata": {},
   "outputs": [],
   "source": [
    "def missing_ratio(df):\n",
    "    return (df.isna().mean() * 100).round(1)"
   ]
  },
  {
   "cell_type": "code",
   "execution_count": null,
   "metadata": {},
   "outputs": [],
   "source": [
    "missing = df.agg(missing_ratio)\n",
    "missing[missing > 0]"
   ]
  },
  {
   "cell_type": "markdown",
   "metadata": {},
   "source": [
    "Có vẻ như không có cột nào bị thiếu"
   ]
  },
  {
   "cell_type": "markdown",
   "metadata": {},
   "source": [
    "### Xem kiểu dữ liệu của các cột"
   ]
  },
  {
   "cell_type": "code",
   "execution_count": null,
   "metadata": {},
   "outputs": [],
   "source": [
    "df.dtypes"
   ]
  },
  {
   "cell_type": "markdown",
   "metadata": {},
   "source": [
    "+ Ta thấy cột TotalCharge là dạng object nên ta cần chuyển về kiểu float ở phần Tiền xử lý"
   ]
  },
  {
   "cell_type": "markdown",
   "metadata": {},
   "source": [
    "## Tiền xử lý"
   ]
  },
  {
   "cell_type": "markdown",
   "metadata": {},
   "source": [
    "#### chuyển cột \"TotalCharges\" từ object thành float64"
   ]
  },
  {
   "cell_type": "code",
   "execution_count": null,
   "metadata": {},
   "outputs": [],
   "source": [
    "df['TotalCharges'] = pd.to_numeric(df['TotalCharges'], errors='coerce')"
   ]
  },
  {
   "cell_type": "markdown",
   "metadata": {},
   "source": [
    "#### check lại tỉ lệ bị thiếu"
   ]
  },
  {
   "cell_type": "code",
   "execution_count": null,
   "metadata": {},
   "outputs": [],
   "source": [
    "missing = df.agg(missing_ratio)\n",
    "missing[missing > 0]"
   ]
  },
  {
   "cell_type": "markdown",
   "metadata": {},
   "source": [
    "#### Nhận xét:\n",
    "\n",
    "    + Vì dữ liệu bị thiếu ở cột TotalChagre không nhiều và dữ liệu còn lại khá lớn nên ta xóa các dòng bị khuyết"
   ]
  },
  {
   "cell_type": "code",
   "execution_count": null,
   "metadata": {},
   "outputs": [],
   "source": [
    "df.dropna(inplace= True)"
   ]
  },
  {
   "cell_type": "markdown",
   "metadata": {},
   "source": [
    "### Với mỗi cột có kiểu dữ liệu có dạng số, các giá trị được phân bố như thế nào?"
   ]
  },
  {
   "cell_type": "code",
   "execution_count": null,
   "metadata": {},
   "outputs": [],
   "source": [
    "num_cols = df.select_dtypes(include = 'number').columns\n",
    "num_cols"
   ]
  },
  {
   "cell_type": "code",
   "execution_count": null,
   "metadata": {},
   "outputs": [],
   "source": [
    "def lower_quartile(df):\n",
    "    return df.quantile(0.25).round(1)\n",
    "def median(df):\n",
    "    return df.quantile(0.5).round(1)\n",
    "def upper_quartile(df):\n",
    "    return df.quantile(0.75).round(1)"
   ]
  },
  {
   "cell_type": "code",
   "execution_count": null,
   "metadata": {},
   "outputs": [],
   "source": [
    "df[num_cols].agg([min,lower_quartile, median, upper_quartile,max])"
   ]
  },
  {
   "cell_type": "markdown",
   "metadata": {},
   "source": [
    "##### Nhận xét:\n",
    "    + Các cột giá trị số không có gì khác thường"
   ]
  },
  {
   "cell_type": "markdown",
   "metadata": {},
   "source": [
    "### Với mỗi cột có kiểu dữ liệu không phải dạng số, các giá trị được phân bố như thế nào?"
   ]
  },
  {
   "cell_type": "code",
   "execution_count": null,
   "metadata": {},
   "outputs": [],
   "source": [
    "object_cols = df.select_dtypes(exclude = ['number']).columns"
   ]
  },
  {
   "cell_type": "code",
   "execution_count": null,
   "metadata": {},
   "outputs": [],
   "source": [
    "def num_values(df):\n",
    "    return df.nunique()\n",
    "def value_ratios(c):\n",
    "    return dict((c.value_counts(normalize=True) * 100)[0:5].round(3))\n",
    "df[object_cols].agg([num_values, value_ratios])\n",
    "df[object_cols].agg([num_values, value_ratios])"
   ]
  },
  {
   "cell_type": "markdown",
   "metadata": {},
   "source": [
    "##### Nhận xét:\n",
    "- Ta thấy ở cột Phone Service có tỉ lệ \"No\" là 9.67% và cột MultipleLines có tỉ lệ \"No phone service\" cũng là 9.67%. Điều này hiển nhiên vì nếu không đăng ký dịch vụ \"PhoneService\" thì không sử dụng được dịch vụ MutipleLines\n",
    "- Ta thấy các cột \"OnlineSecurity\",\"OnlineBackup\",\"DeviceProtection\",\"TechSupport\",\"StreamingTV\",\"StreamingMovies\" đều có tỉ lệ \"No internet service\" bắng 21.615% bằng với cột \"InternetService\" có tỉ lệ \"No\" là 21.615%. Điều này suy ra được là InternetServer là điều kiện cần để đăng ký các dịch vụ nêu trên."
   ]
  },
  {
   "cell_type": "markdown",
   "metadata": {},
   "source": [
    "## Phân tích các Insights"
   ]
  },
  {
   "cell_type": "markdown",
   "metadata": {},
   "source": [
    "### Insight 1 : Lý do khiến người dùng thay đổi dịch vụ ( churn = \"yes\")"
   ]
  },
  {
   "cell_type": "markdown",
   "metadata": {},
   "source": [
    "### Lấy data với churn = \"yes\" và churn = \"no\""
   ]
  },
  {
   "cell_type": "code",
   "execution_count": null,
   "metadata": {},
   "outputs": [],
   "source": [
    "churn_yes_df = df[df[\"Churn\"] =='Yes']\n",
    "churn_no_df = df[df[\"Churn\"] =='No']"
   ]
  },
  {
   "cell_type": "markdown",
   "metadata": {},
   "source": [
    "### Tính thời gian gắn bó (tenure)"
   ]
  },
  {
   "cell_type": "code",
   "execution_count": null,
   "metadata": {},
   "outputs": [],
   "source": [
    "hist = plt.hist(churn_yes_df['tenure'],  \n",
    "                edgecolor='black', bins = range(0,73,12), color=['orange'])\n",
    "plt.xticks(range(0,73,12))\n",
    "plt.title('Tenure histogram of churning users')\n",
    "plt.xlabel('Tenure (months)')\n",
    "plt.ylabel('Number of customers');"
   ]
  },
  {
   "cell_type": "markdown",
   "metadata": {},
   "source": [
    "### Nhận xét:\n",
    "    + Biểu đồ thể hiên với thời gian gắn bó ngắn (<12 tháng) thì sẽ tăng tỉ lệ churn\n",
    "    + Ngược lại khi người dùng đã gắn bó lâu với dịch vụ thì tỉ lệ churn sẽ ít hơn.\n",
    " => Có thể nhận định rằng khoảng thời gian 12 tháng đầu là quan trọng nhất để giữ chân khách hàng với dịch vụ"
   ]
  },
  {
   "cell_type": "markdown",
   "metadata": {},
   "source": [
    "### Phí hàng tháng (Monthly Charge)"
   ]
  },
  {
   "cell_type": "code",
   "execution_count": null,
   "metadata": {},
   "outputs": [],
   "source": [
    "sns.kdeplot(churn_yes_df[\"MonthlyCharges\"],color='red',label='Churn: Yes')\n",
    "plt.legend()\n",
    "plt.title(\"Monthly charges (with churn = yes) \")\n",
    "plt.xlabel(\"Monthly charges\")\n",
    "plt.show()"
   ]
  },
  {
   "cell_type": "markdown",
   "metadata": {},
   "source": [
    "### Nhận xét :\n",
    "- Từ 70 đến 90 là mức phí hàng tháng quá cao khiến người dùng thay đổi dịch vụ."
   ]
  },
  {
   "cell_type": "markdown",
   "metadata": {},
   "source": [
    "### Tổng chi phí (Total Charge)"
   ]
  },
  {
   "cell_type": "code",
   "execution_count": null,
   "metadata": {},
   "outputs": [],
   "source": [
    "fig, axs = plt.subplots(1,2,figsize=(25,8))\n",
    "\n",
    "sns.kdeplot(churn_yes_df[\"TotalCharges\"],color='red',label='Churn: Yes' , ax=axs[0])\n",
    "sns.kdeplot(churn_yes_df[\"tenure\"],color='red',label='Churn: Yes' , ax=axs[1])\n",
    "\n",
    "fig.suptitle('TotalCharge and Tenure (with churn= yes)', fontsize=18)\n",
    "plt.show()"
   ]
  },
  {
   "cell_type": "markdown",
   "metadata": {},
   "source": [
    "### Nhận xét :\n",
    "- Với tổng chi phí < 2000 đô thì lượng người thay đổi dịch vụ chiếm tỉ trọng cao\n",
    "- Tuy nhiên ta so sánh với biểu đồ thời lượng sử dụng thì thấy điểm tương đồng\n",
    "\n",
    "=> Với thời lượng sử dụng dịch vụ ngắn dẫn đến tổng chi phí ngắn"
   ]
  },
  {
   "cell_type": "markdown",
   "metadata": {},
   "source": [
    "### Dịch vụ liên quan Internet"
   ]
  },
  {
   "cell_type": "code",
   "execution_count": null,
   "metadata": {},
   "outputs": [],
   "source": [
    "churn_yes_df[\"InternetService\"].agg([ value_ratios])"
   ]
  },
  {
   "cell_type": "markdown",
   "metadata": {},
   "source": [
    "Trong số những người thay đổi dịch vụ (churn = yes) có sử dụng dịch vụ internet chiếm đến 94% (tỉ lệ No chỉ 6%) nên ta xem các dịch vụ liên quan internet có gì bất thường không?"
   ]
  },
  {
   "cell_type": "markdown",
   "metadata": {},
   "source": [
    "### Gói cước Internet + điện thoại"
   ]
  },
  {
   "cell_type": "code",
   "execution_count": null,
   "metadata": {},
   "outputs": [],
   "source": [
    "services=[ ('PhoneService','Yes'),('MultipleLines','No'),('MultipleLines','No phone service'),('MultipleLines','Yes'), ('InternetService','DSL'),('InternetService','Fiber optic'), ('InternetService','No')]\n",
    "services_churn_no_p=[len(churn_no_df[churn_no_df[k[0]] == k[1]]) for k in services] \n",
    "services_total_p=[len(df[df[k[0]] == k[1]]) for k in services]\n",
    "services_labels = (k[0]+'_'+k[1] for k in services)\n",
    "\n",
    "x = np.arange(len(services))  # the label locations\n",
    "width = 0.35  # the width of the bars\n",
    "\n",
    "fig, ax = plt.subplots()\n",
    "rects1 = ax.bar(x - width/2, services_churn_no_p, width, label='Non-churning users', color=['orange'])\n",
    "rects2 = ax.bar(x + width/2, services_total_p, width, label='Total users', color=['#3fced9'])\n",
    "\n",
    "# Add some text for labels, title and custom x-axis tick labels, etc.\n",
    "ax.set_ylabel('User count')\n",
    "ax.set_title('User count by product')\n",
    "ax.set_xticks(x)\n",
    "ax.set_xticklabels(services_labels)\n",
    "ax.legend()\n",
    "\n",
    "ax.bar_label(rects1, padding=3)\n",
    "ax.bar_label(rects2, padding=3)\n",
    "\n",
    "fig.set_figheight(10)\n",
    "fig.set_figwidth(20)\n",
    "\n",
    "plt.show()"
   ]
  },
  {
   "cell_type": "markdown",
   "metadata": {},
   "source": [
    "### Nhận xét:\n",
    "- Internet cáp quang churn nhiều hơn các dịch vụ khác\n",
    "- Khách hàng không sử dụng internet churn rất ít"
   ]
  },
  {
   "cell_type": "markdown",
   "metadata": {},
   "source": [
    "#### Tiền xử lý dữ liệu"
   ]
  },
  {
   "cell_type": "code",
   "execution_count": null,
   "metadata": {},
   "outputs": [],
   "source": [
    "def Yes(c):\n",
    "    return (c.value_counts(normalize=True)['Yes']* 100).round(3)\n",
    "def No(c):\n",
    "     return (c.value_counts(normalize=True)['No']* 100).round(3)\n",
    "    \n",
    "Internet_churn_yes_df = churn_yes_df[churn_yes_df[\"InternetService\"] != \"No\"]\n",
    "cols = [\"OnlineSecurity\",\"OnlineBackup\",\"DeviceProtection\",\"TechSupport\",\"StreamingTV\",\"StreamingMovies\"]\n",
    "Internet_churn_yes_df = Internet_churn_yes_df[cols].agg([Yes,No])\n",
    "Internet_churn_yes_df = Internet_churn_yes_df.T\n",
    "Internet_churn_yes_df"
   ]
  },
  {
   "cell_type": "markdown",
   "metadata": {},
   "source": [
    "#### Biểu đồ thể hiện các dịch vụ liên quan đến internet"
   ]
  },
  {
   "cell_type": "code",
   "execution_count": null,
   "metadata": {},
   "outputs": [],
   "source": [
    "Internet_churn_yes_df.plot.bar(stacked=True, figsize=(10,8), ylabel=\"Percent\", color=['orange', '#3fced9']);"
   ]
  },
  {
   "cell_type": "markdown",
   "metadata": {},
   "source": [
    "### Nhận xét\n",
    "- Biểu đồ cho thấy số người sử dụng \"OnlineSecurity\" và \"TechSupport\" khá thấp nên người dùng đã bỏ lỡ 2 dịch vụ này dẫn đến không sử dụng dịch vụ Internet bên công ty nữa.\n",
    "- Biểu đồ cho thấy số người sử dụng \"StreamingTV\" và \"StreamingMovies\" cao nhất trong các dịch vụ (>40%) ta nên hỏi ý kiến khách hàng xem có gì không hài lòng dẫn đến việc rời bỏ dịch vụ Internet bên công ty "
   ]
  },
  {
   "cell_type": "markdown",
   "metadata": {},
   "source": [
    "### Kết luận :\n",
    "#### Các lý do khiến người dùng thay đổi dịch vụ:\n",
    "- Do thời gian gắn bó chưa lâu (<10 tháng) vì vậy cần lắng nghe và chăm sóc khách hàng mới\n",
    "- Do chi phí hàng tháng quá cao từ ( 70 -> 90) dẫn đến các khách hàng chọn rời dịch vụ\n",
    "- Do chất lượng dịch vụ Internet và các tính năng của dịch vụ chưa được tốt dẫn đến các khách hàng chọn rời dịch vụ"
   ]
  },
  {
   "cell_type": "markdown",
   "metadata": {},
   "source": [
    "### Insight 2: Customer profile và các góp ý giúp chăm sóc khách hàng tốt hơn"
   ]
  },
  {
   "cell_type": "markdown",
   "metadata": {},
   "source": [
    "#### Lọc ra các khách hàng cao tuổi"
   ]
  },
  {
   "cell_type": "code",
   "execution_count": null,
   "metadata": {},
   "outputs": [],
   "source": [
    "senior_df = df[df['SeniorCitizen'] == 1]\n",
    "object_cols = senior_df.select_dtypes(exclude = ['number']).columns\n",
    "def num_values(df):\n",
    "    return df.nunique()\n",
    "def value_ratios(c):\n",
    "    return dict((c.value_counts(normalize=True) * 100)[0:5].round(3))\n",
    "senior_df[object_cols].agg([num_values, value_ratios])"
   ]
  },
  {
   "cell_type": "markdown",
   "metadata": {},
   "source": [
    "#### Profile khách hàng cao tuổi:\n",
    "- Có nhu cầu sử dụng internet cao (95% có internet)\n",
    "- Thường đăng kí hợp đồng từng tháng (70%)\n",
    "- Sử dụng hóa đơn điện tử nhiều (75% paperless billing)"
   ]
  },
  {
   "cell_type": "markdown",
   "metadata": {},
   "source": [
    "#### Lọc ra các khách hàng cao tuổi đã churn"
   ]
  },
  {
   "cell_type": "code",
   "execution_count": null,
   "metadata": {},
   "outputs": [],
   "source": [
    "senior_churn_df = senior_df[senior_df[\"Churn\"] == \"Yes\"]\n",
    "senior_churn_df[object_cols].agg([num_values, value_ratios])"
   ]
  },
  {
   "cell_type": "markdown",
   "metadata": {},
   "source": [
    "#### Phân tích churn của khách hàng cao tuổi:\n",
    "- Phần lớn đăng kí hợp đồng tháng (92%)\n",
    "- Sử dụng internet cáp quang nhiều (82%)\n",
    "- Ít sử dụng thanh toán tự động hơn\n",
    "\n",
    "#### Gợi ý về chăm sóc khách hàng:\n",
    "- Đưa ra ưu đãi về giá cho hợp đồng dài hạn -> khuyến khích đăng kí dài hạn, giảm gánh nặng chi phí (phân khúc người già churn nhiều do tiết kiệm)\n",
    "- Đưa ra các gói dịch vụ thiết yếu ưu đãi cho người lớn tuổi (vd Internet + Điện thoại + Tech support) để thu hút khách hàng\n",
    "- Khuyến mãi hoặc giảm giá các dịch vụ có ích cho người lớn tuổi như Tech support và Online security để tăng giá trị cho khách hàng\n",
    "- Cải thiện chất lượng dịch vụ internet"
   ]
  },
  {
   "cell_type": "markdown",
   "metadata": {},
   "source": [
    "#### Lọc ra profile khách hàng trẻ (non-senior)"
   ]
  },
  {
   "cell_type": "code",
   "execution_count": null,
   "metadata": {},
   "outputs": [],
   "source": [
    "non_senior_df = df[df['SeniorCitizen'] == 0]\n",
    "object_cols = non_senior_df.select_dtypes(exclude = ['number']).columns\n",
    "def num_values(df):\n",
    "    return df.nunique()\n",
    "def value_ratios(c):\n",
    "    return dict((c.value_counts(normalize=True) * 100)[0:5].round(3))\n",
    "non_senior_df[object_cols].agg([num_values, value_ratios])"
   ]
  },
  {
   "cell_type": "markdown",
   "metadata": {},
   "source": [
    "#### Profile khách hàng trẻ tuổi:\n",
    "- Một bộ phận không đăng kí internet (25% sử dụng 4G hoàn toàn?)\n",
    "- Sử dụng các dịch vụ kèm theo nhiều hơn (đặc biệt là streaming)\n",
    "- Đăng kí hợp đồng dài hạn nhiều hơn"
   ]
  },
  {
   "cell_type": "markdown",
   "metadata": {},
   "source": [
    "#### Lọc ra các khách hàng trẻ tuổi đã churn"
   ]
  },
  {
   "cell_type": "code",
   "execution_count": null,
   "metadata": {},
   "outputs": [],
   "source": [
    "non_senior_churn_df = non_senior_df[non_senior_df[\"Churn\"] == \"Yes\"]\n",
    "non_senior_churn_df[object_cols].agg([num_values, value_ratios])"
   ]
  },
  {
   "cell_type": "markdown",
   "metadata": {},
   "source": [
    "#### Phân tích churn của khách hàng trẻ tuổi:\n",
    "- Phần lớn đăng kí hợp đồng tháng\n",
    "- Sử dụng internet cáp quang nhiều\n",
    "- Ít sử dụng các dịch vụ đi kèm như tech support\n",
    "\n",
    "#### Gợi ý về chăm sóc khách hàng:\n",
    "- Đưa ra ưu đãi về giá cho hợp đồng dài hạn -> khuyến khích đăng kí dài hạn\n",
    "- Ưu đãi lắp đặt internet để tăng phủ sóng internet cho khách hàng\n",
    "- Đưa ra các gói dịch vụ ưu đãi cho người trẻ (VD Internet + Streaming TV + Streaming Movies) để thu hút khách hàng\n",
    "- Cải thiện chất lượng dịch vụ internet"
   ]
  },
  {
   "cell_type": "markdown",
   "metadata": {},
   "source": [
    "### Kết luận :\n",
    "#### Gợi ý về chăm sóc khách hàng nói chung:\n",
    "- Đưa ra ưu đãi về giá cho hợp đồng dài hạn -> khuyến khích đăng kí dài hạn\n",
    "- Cải thiện chất lượng dịch vụ streaming nói riêng và internet nói chung\n",
    "- Thường xuyên lắng nghe phản hồi cũng như hỗ trợ khách hàng về các dịch vụ\n",
    "\n",
    "#### Gợi ý về chăm sóc khách hàng lớn tuổi:\n",
    "- Đưa ra các gói dịch vụ thiết yếu ưu đãi cho người lớn tuổi (vd Internet + Điện thoại + Tech support) để thu hút khách hàng\n",
    "- Khuyến mãi hoặc giảm giá các dịch vụ có ích cho người lớn tuổi như Tech support và Online security để tăng giá trị cho khách hàng\n",
    "\n",
    "#### Gợi ý về chăm sóc khách hàng trẻ tuổi:\n",
    "- Ưu đãi lắp đặt internet để tăng phủ sóng internet cho khách hàng\n",
    "- Đưa ra các gói dịch vụ ưu đãi cho người trẻ (VD Internet + Streaming TV + Streaming Movies) để thu hút khách hàng"
   ]
  },
  {
   "cell_type": "markdown",
   "metadata": {},
   "source": [
    "## Nhìn lại quá trình làm đồ án \n",
    "\n",
    "- Cần tìm hiểu kĩ nguồn gốc data hơn\n",
    "- Nên áp dụng một thuật toán vào phân tích dữ liệu để có thể đưa ra thêm giải pháp"
   ]
  },
  {
   "cell_type": "markdown",
   "metadata": {},
   "source": [
    "## Tài liệu tham khảo\n",
    "- Kaggle([Telco Customer Churn](https://www.kaggle.com/blastchar/telco-customer-churn))\n",
    "- https://matplotlib.org/\n",
    "- https://pandas.pydata.org/"
   ]
  }
 ],
 "metadata": {
  "kernelspec": {
   "display_name": "Python 3",
   "language": "python",
   "name": "python3"
  },
  "language_info": {
   "codemirror_mode": {
    "name": "ipython",
    "version": 3
   },
   "file_extension": ".py",
   "mimetype": "text/x-python",
   "name": "python",
   "nbconvert_exporter": "python",
   "pygments_lexer": "ipython3",
   "version": "3.8.5"
  }
 },
 "nbformat": 4,
 "nbformat_minor": 5
}
