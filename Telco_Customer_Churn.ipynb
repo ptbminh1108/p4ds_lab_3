{
 "cells": [
  {
   "cell_type": "markdown",
   "id": "55e43b3a",
   "metadata": {},
   "source": [
    "# Đồ án môn Programming for Data Science"
   ]
  },
  {
   "cell_type": "markdown",
   "id": "553842ef",
   "metadata": {},
   "source": [
    "### Sinh viên\n",
    "    1.18120210            Phạm Tống Bình Minh\n",
    "    2.18120209            Phạm Nhật Minh"
   ]
  },
  {
   "cell_type": "markdown",
   "id": "4621f12f",
   "metadata": {},
   "source": [
    "## Import LIB"
   ]
  },
  {
   "cell_type": "code",
   "execution_count": 1,
   "id": "4ceadd80",
   "metadata": {},
   "outputs": [],
   "source": [
    "import pandas as pd\n",
    "import numpy as np\n",
    "import matplotlib.pyplot as plt\n",
    "import calendar"
   ]
  },
  {
   "cell_type": "markdown",
   "id": "f1ce0be6",
   "metadata": {},
   "source": [
    "## Display setting"
   ]
  },
  {
   "cell_type": "code",
   "execution_count": 2,
   "id": "ffba3898",
   "metadata": {},
   "outputs": [],
   "source": [
    "\n",
    "pd.set_option('max_colwidth', None)\n",
    "#pd.set_option('display.max_rows', None)\n",
    "pd.set_option('display.max_columns', None)\n",
    "#pd.set_option('display.width', None)\n"
   ]
  },
  {
   "cell_type": "markdown",
   "id": "ed028c57",
   "metadata": {},
   "source": [
    "## Data reading"
   ]
  },
  {
   "cell_type": "code",
   "execution_count": 3,
   "id": "a73acf5a",
   "metadata": {},
   "outputs": [],
   "source": [
    "df = pd.read_csv(\"data.csv\")"
   ]
  },
  {
   "cell_type": "code",
   "execution_count": 4,
   "id": "c1a28b01",
   "metadata": {},
   "outputs": [
    {
     "data": {
      "text/html": [
       "<div>\n",
       "<style scoped>\n",
       "    .dataframe tbody tr th:only-of-type {\n",
       "        vertical-align: middle;\n",
       "    }\n",
       "\n",
       "    .dataframe tbody tr th {\n",
       "        vertical-align: top;\n",
       "    }\n",
       "\n",
       "    .dataframe thead th {\n",
       "        text-align: right;\n",
       "    }\n",
       "</style>\n",
       "<table border=\"1\" class=\"dataframe\">\n",
       "  <thead>\n",
       "    <tr style=\"text-align: right;\">\n",
       "      <th></th>\n",
       "      <th>customerID</th>\n",
       "      <th>gender</th>\n",
       "      <th>SeniorCitizen</th>\n",
       "      <th>Partner</th>\n",
       "      <th>Dependents</th>\n",
       "      <th>tenure</th>\n",
       "      <th>PhoneService</th>\n",
       "      <th>MultipleLines</th>\n",
       "      <th>InternetService</th>\n",
       "      <th>OnlineSecurity</th>\n",
       "      <th>OnlineBackup</th>\n",
       "      <th>DeviceProtection</th>\n",
       "      <th>TechSupport</th>\n",
       "      <th>StreamingTV</th>\n",
       "      <th>StreamingMovies</th>\n",
       "      <th>Contract</th>\n",
       "      <th>PaperlessBilling</th>\n",
       "      <th>PaymentMethod</th>\n",
       "      <th>MonthlyCharges</th>\n",
       "      <th>TotalCharges</th>\n",
       "      <th>Churn</th>\n",
       "    </tr>\n",
       "  </thead>\n",
       "  <tbody>\n",
       "    <tr>\n",
       "      <th>0</th>\n",
       "      <td>7590-VHVEG</td>\n",
       "      <td>Female</td>\n",
       "      <td>0</td>\n",
       "      <td>Yes</td>\n",
       "      <td>No</td>\n",
       "      <td>1</td>\n",
       "      <td>No</td>\n",
       "      <td>No phone service</td>\n",
       "      <td>DSL</td>\n",
       "      <td>No</td>\n",
       "      <td>Yes</td>\n",
       "      <td>No</td>\n",
       "      <td>No</td>\n",
       "      <td>No</td>\n",
       "      <td>No</td>\n",
       "      <td>Month-to-month</td>\n",
       "      <td>Yes</td>\n",
       "      <td>Electronic check</td>\n",
       "      <td>29.85</td>\n",
       "      <td>29.85</td>\n",
       "      <td>No</td>\n",
       "    </tr>\n",
       "    <tr>\n",
       "      <th>1</th>\n",
       "      <td>5575-GNVDE</td>\n",
       "      <td>Male</td>\n",
       "      <td>0</td>\n",
       "      <td>No</td>\n",
       "      <td>No</td>\n",
       "      <td>34</td>\n",
       "      <td>Yes</td>\n",
       "      <td>No</td>\n",
       "      <td>DSL</td>\n",
       "      <td>Yes</td>\n",
       "      <td>No</td>\n",
       "      <td>Yes</td>\n",
       "      <td>No</td>\n",
       "      <td>No</td>\n",
       "      <td>No</td>\n",
       "      <td>One year</td>\n",
       "      <td>No</td>\n",
       "      <td>Mailed check</td>\n",
       "      <td>56.95</td>\n",
       "      <td>1889.5</td>\n",
       "      <td>No</td>\n",
       "    </tr>\n",
       "    <tr>\n",
       "      <th>2</th>\n",
       "      <td>3668-QPYBK</td>\n",
       "      <td>Male</td>\n",
       "      <td>0</td>\n",
       "      <td>No</td>\n",
       "      <td>No</td>\n",
       "      <td>2</td>\n",
       "      <td>Yes</td>\n",
       "      <td>No</td>\n",
       "      <td>DSL</td>\n",
       "      <td>Yes</td>\n",
       "      <td>Yes</td>\n",
       "      <td>No</td>\n",
       "      <td>No</td>\n",
       "      <td>No</td>\n",
       "      <td>No</td>\n",
       "      <td>Month-to-month</td>\n",
       "      <td>Yes</td>\n",
       "      <td>Mailed check</td>\n",
       "      <td>53.85</td>\n",
       "      <td>108.15</td>\n",
       "      <td>Yes</td>\n",
       "    </tr>\n",
       "    <tr>\n",
       "      <th>3</th>\n",
       "      <td>7795-CFOCW</td>\n",
       "      <td>Male</td>\n",
       "      <td>0</td>\n",
       "      <td>No</td>\n",
       "      <td>No</td>\n",
       "      <td>45</td>\n",
       "      <td>No</td>\n",
       "      <td>No phone service</td>\n",
       "      <td>DSL</td>\n",
       "      <td>Yes</td>\n",
       "      <td>No</td>\n",
       "      <td>Yes</td>\n",
       "      <td>Yes</td>\n",
       "      <td>No</td>\n",
       "      <td>No</td>\n",
       "      <td>One year</td>\n",
       "      <td>No</td>\n",
       "      <td>Bank transfer (automatic)</td>\n",
       "      <td>42.30</td>\n",
       "      <td>1840.75</td>\n",
       "      <td>No</td>\n",
       "    </tr>\n",
       "    <tr>\n",
       "      <th>4</th>\n",
       "      <td>9237-HQITU</td>\n",
       "      <td>Female</td>\n",
       "      <td>0</td>\n",
       "      <td>No</td>\n",
       "      <td>No</td>\n",
       "      <td>2</td>\n",
       "      <td>Yes</td>\n",
       "      <td>No</td>\n",
       "      <td>Fiber optic</td>\n",
       "      <td>No</td>\n",
       "      <td>No</td>\n",
       "      <td>No</td>\n",
       "      <td>No</td>\n",
       "      <td>No</td>\n",
       "      <td>No</td>\n",
       "      <td>Month-to-month</td>\n",
       "      <td>Yes</td>\n",
       "      <td>Electronic check</td>\n",
       "      <td>70.70</td>\n",
       "      <td>151.65</td>\n",
       "      <td>Yes</td>\n",
       "    </tr>\n",
       "  </tbody>\n",
       "</table>\n",
       "</div>"
      ],
      "text/plain": [
       "   customerID  gender  SeniorCitizen Partner Dependents  tenure PhoneService  \\\n",
       "0  7590-VHVEG  Female              0     Yes         No       1           No   \n",
       "1  5575-GNVDE    Male              0      No         No      34          Yes   \n",
       "2  3668-QPYBK    Male              0      No         No       2          Yes   \n",
       "3  7795-CFOCW    Male              0      No         No      45           No   \n",
       "4  9237-HQITU  Female              0      No         No       2          Yes   \n",
       "\n",
       "      MultipleLines InternetService OnlineSecurity OnlineBackup  \\\n",
       "0  No phone service             DSL             No          Yes   \n",
       "1                No             DSL            Yes           No   \n",
       "2                No             DSL            Yes          Yes   \n",
       "3  No phone service             DSL            Yes           No   \n",
       "4                No     Fiber optic             No           No   \n",
       "\n",
       "  DeviceProtection TechSupport StreamingTV StreamingMovies        Contract  \\\n",
       "0               No          No          No              No  Month-to-month   \n",
       "1              Yes          No          No              No        One year   \n",
       "2               No          No          No              No  Month-to-month   \n",
       "3              Yes         Yes          No              No        One year   \n",
       "4               No          No          No              No  Month-to-month   \n",
       "\n",
       "  PaperlessBilling              PaymentMethod  MonthlyCharges TotalCharges  \\\n",
       "0              Yes           Electronic check           29.85        29.85   \n",
       "1               No               Mailed check           56.95       1889.5   \n",
       "2              Yes               Mailed check           53.85       108.15   \n",
       "3               No  Bank transfer (automatic)           42.30      1840.75   \n",
       "4              Yes           Electronic check           70.70       151.65   \n",
       "\n",
       "  Churn  \n",
       "0    No  \n",
       "1    No  \n",
       "2   Yes  \n",
       "3    No  \n",
       "4   Yes  "
      ]
     },
     "execution_count": 4,
     "metadata": {},
     "output_type": "execute_result"
    }
   ],
   "source": [
    "df.head()"
   ]
  },
  {
   "cell_type": "markdown",
   "id": "37b741a6",
   "metadata": {},
   "source": [
    "## Exploration"
   ]
  },
  {
   "cell_type": "code",
   "execution_count": 5,
   "id": "cdf2bb09",
   "metadata": {},
   "outputs": [
    {
     "data": {
      "text/plain": [
       "(7043, 21)"
      ]
     },
     "execution_count": 5,
     "metadata": {},
     "output_type": "execute_result"
    }
   ],
   "source": [
    "df.shape"
   ]
  },
  {
   "cell_type": "markdown",
   "id": "b45bb50c",
   "metadata": {},
   "source": [
    "### Dữ liệu có các dòng bị lặp không?"
   ]
  },
  {
   "cell_type": "code",
   "execution_count": 6,
   "id": "596ccd66",
   "metadata": {},
   "outputs": [
    {
     "data": {
      "text/plain": [
       "0"
      ]
     },
     "execution_count": 6,
     "metadata": {},
     "output_type": "execute_result"
    }
   ],
   "source": [
    "df.duplicated().sum()"
   ]
  },
  {
   "cell_type": "markdown",
   "id": "9e987cc4",
   "metadata": {},
   "source": [
    "### Xem ý nghĩa của các cột"
   ]
  },
  {
   "cell_type": "code",
   "execution_count": null,
   "id": "bda9c21f",
   "metadata": {},
   "outputs": [],
   "source": []
  },
  {
   "cell_type": "markdown",
   "id": "995d253a",
   "metadata": {},
   "source": [
    "### Xem tỉ lệ dữ liệu bị thiếu"
   ]
  },
  {
   "cell_type": "code",
   "execution_count": 7,
   "id": "d5bf48cb",
   "metadata": {},
   "outputs": [],
   "source": [
    "def missing_ratio(df):\n",
    "    return (df.isna().mean() * 100).round(1)"
   ]
  },
  {
   "cell_type": "code",
   "execution_count": 8,
   "id": "32afdbed",
   "metadata": {},
   "outputs": [
    {
     "data": {
      "text/plain": [
       "Series([], dtype: float64)"
      ]
     },
     "execution_count": 8,
     "metadata": {},
     "output_type": "execute_result"
    }
   ],
   "source": [
    "missing = df.agg(missing_ratio)\n",
    "missing[missing > 0]"
   ]
  },
  {
   "cell_type": "markdown",
   "id": "d6a4bb8c",
   "metadata": {},
   "source": [
    "### Xem kiểu dữ liệu của các cột"
   ]
  },
  {
   "cell_type": "code",
   "execution_count": 9,
   "id": "d4f0b3de",
   "metadata": {},
   "outputs": [
    {
     "data": {
      "text/plain": [
       "customerID           object\n",
       "gender               object\n",
       "SeniorCitizen         int64\n",
       "Partner              object\n",
       "Dependents           object\n",
       "tenure                int64\n",
       "PhoneService         object\n",
       "MultipleLines        object\n",
       "InternetService      object\n",
       "OnlineSecurity       object\n",
       "OnlineBackup         object\n",
       "DeviceProtection     object\n",
       "TechSupport          object\n",
       "StreamingTV          object\n",
       "StreamingMovies      object\n",
       "Contract             object\n",
       "PaperlessBilling     object\n",
       "PaymentMethod        object\n",
       "MonthlyCharges      float64\n",
       "TotalCharges         object\n",
       "Churn                object\n",
       "dtype: object"
      ]
     },
     "execution_count": 9,
     "metadata": {},
     "output_type": "execute_result"
    }
   ],
   "source": [
    "df.dtypes"
   ]
  },
  {
   "cell_type": "markdown",
   "id": "03a4d913",
   "metadata": {},
   "source": [
    "#### chuyển cột \"TotalCharges\" từ object thành float64"
   ]
  },
  {
   "cell_type": "code",
   "execution_count": 10,
   "id": "3756887e",
   "metadata": {},
   "outputs": [],
   "source": [
    "df['TotalCharges'] = pd.to_numeric(df['TotalCharges'], errors='coerce')"
   ]
  },
  {
   "cell_type": "markdown",
   "id": "c374804f",
   "metadata": {},
   "source": [
    "#### check lại tỉ lệ bị thiếu"
   ]
  },
  {
   "cell_type": "code",
   "execution_count": 11,
   "id": "6844dd72",
   "metadata": {},
   "outputs": [
    {
     "data": {
      "text/plain": [
       "TotalCharges    0.2\n",
       "dtype: float64"
      ]
     },
     "execution_count": 11,
     "metadata": {},
     "output_type": "execute_result"
    }
   ],
   "source": [
    "missing = df.agg(missing_ratio)\n",
    "missing[missing > 0]"
   ]
  },
  {
   "cell_type": "markdown",
   "id": "6e680633",
   "metadata": {},
   "source": [
    "#### Nhận xét:\n",
    "\n",
    "    + Vì dữ liệu bị thiếu không nhiều và dữ liệu còn lại khá lớn nên ta xóa các dòng bị khuyết"
   ]
  },
  {
   "cell_type": "code",
   "execution_count": 12,
   "id": "b0573c0b",
   "metadata": {},
   "outputs": [],
   "source": [
    "df.dropna(inplace= True)"
   ]
  },
  {
   "cell_type": "markdown",
   "id": "46f0b0cf",
   "metadata": {},
   "source": [
    "## Preprocessing"
   ]
  },
  {
   "cell_type": "markdown",
   "id": "ba7beeda",
   "metadata": {},
   "source": [
    "### Với mỗi cột có kiểu dữ liệu có dạng số, các giá trị được phân bố như thế nào?"
   ]
  },
  {
   "cell_type": "code",
   "execution_count": 13,
   "id": "f45d5b9e",
   "metadata": {},
   "outputs": [
    {
     "data": {
      "text/plain": [
       "Index(['SeniorCitizen', 'tenure', 'MonthlyCharges', 'TotalCharges'], dtype='object')"
      ]
     },
     "execution_count": 13,
     "metadata": {},
     "output_type": "execute_result"
    }
   ],
   "source": [
    "num_cols = df.select_dtypes(include = 'number').columns\n",
    "num_cols"
   ]
  },
  {
   "cell_type": "code",
   "execution_count": 14,
   "id": "95317d07",
   "metadata": {},
   "outputs": [],
   "source": [
    "\n",
    "def missing_ratio(df):\n",
    "    return (df.isna().mean() * 100).round(1)\n",
    "def lower_quartile(df):\n",
    "    return df.quantile(0.25).round(1)\n",
    "def median(df):\n",
    "    return df.quantile(0.5).round(1)\n",
    "def upper_quartile(df):\n",
    "    return df.quantile(0.75).round(1)"
   ]
  },
  {
   "cell_type": "code",
   "execution_count": 15,
   "id": "b7fd805b",
   "metadata": {},
   "outputs": [
    {
     "data": {
      "text/html": [
       "<div>\n",
       "<style scoped>\n",
       "    .dataframe tbody tr th:only-of-type {\n",
       "        vertical-align: middle;\n",
       "    }\n",
       "\n",
       "    .dataframe tbody tr th {\n",
       "        vertical-align: top;\n",
       "    }\n",
       "\n",
       "    .dataframe thead th {\n",
       "        text-align: right;\n",
       "    }\n",
       "</style>\n",
       "<table border=\"1\" class=\"dataframe\">\n",
       "  <thead>\n",
       "    <tr style=\"text-align: right;\">\n",
       "      <th></th>\n",
       "      <th>SeniorCitizen</th>\n",
       "      <th>tenure</th>\n",
       "      <th>MonthlyCharges</th>\n",
       "      <th>TotalCharges</th>\n",
       "    </tr>\n",
       "  </thead>\n",
       "  <tbody>\n",
       "    <tr>\n",
       "      <th>min</th>\n",
       "      <td>0.0</td>\n",
       "      <td>1.0</td>\n",
       "      <td>18.25</td>\n",
       "      <td>18.8</td>\n",
       "    </tr>\n",
       "    <tr>\n",
       "      <th>lower_quartile</th>\n",
       "      <td>0.0</td>\n",
       "      <td>9.0</td>\n",
       "      <td>35.60</td>\n",
       "      <td>401.4</td>\n",
       "    </tr>\n",
       "    <tr>\n",
       "      <th>median</th>\n",
       "      <td>0.0</td>\n",
       "      <td>29.0</td>\n",
       "      <td>70.40</td>\n",
       "      <td>1397.5</td>\n",
       "    </tr>\n",
       "    <tr>\n",
       "      <th>upper_quartile</th>\n",
       "      <td>0.0</td>\n",
       "      <td>55.0</td>\n",
       "      <td>89.90</td>\n",
       "      <td>3794.7</td>\n",
       "    </tr>\n",
       "    <tr>\n",
       "      <th>max</th>\n",
       "      <td>1.0</td>\n",
       "      <td>72.0</td>\n",
       "      <td>118.75</td>\n",
       "      <td>8684.8</td>\n",
       "    </tr>\n",
       "  </tbody>\n",
       "</table>\n",
       "</div>"
      ],
      "text/plain": [
       "                SeniorCitizen  tenure  MonthlyCharges  TotalCharges\n",
       "min                       0.0     1.0           18.25          18.8\n",
       "lower_quartile            0.0     9.0           35.60         401.4\n",
       "median                    0.0    29.0           70.40        1397.5\n",
       "upper_quartile            0.0    55.0           89.90        3794.7\n",
       "max                       1.0    72.0          118.75        8684.8"
      ]
     },
     "execution_count": 15,
     "metadata": {},
     "output_type": "execute_result"
    }
   ],
   "source": [
    "df[num_cols].agg([min,lower_quartile, median, upper_quartile,max])"
   ]
  },
  {
   "cell_type": "markdown",
   "id": "efa9c32c",
   "metadata": {},
   "source": [
    "##### Nhận xét:\n",
    "    + Các cột giá trị số không có gì khác thường"
   ]
  },
  {
   "cell_type": "markdown",
   "id": "c9ad428a",
   "metadata": {},
   "source": [
    "### Với mỗi cột có kiểu dữ liệu có dạng số, các giá trị được phân bố như thế nào?"
   ]
  },
  {
   "cell_type": "code",
   "execution_count": 16,
   "id": "3bb648e4",
   "metadata": {},
   "outputs": [],
   "source": [
    "object_cols = df.select_dtypes(exclude = ['number']).columns"
   ]
  },
  {
   "cell_type": "code",
   "execution_count": 17,
   "id": "13b35288",
   "metadata": {},
   "outputs": [
    {
     "data": {
      "text/html": [
       "<div>\n",
       "<style scoped>\n",
       "    .dataframe tbody tr th:only-of-type {\n",
       "        vertical-align: middle;\n",
       "    }\n",
       "\n",
       "    .dataframe tbody tr th {\n",
       "        vertical-align: top;\n",
       "    }\n",
       "\n",
       "    .dataframe thead th {\n",
       "        text-align: right;\n",
       "    }\n",
       "</style>\n",
       "<table border=\"1\" class=\"dataframe\">\n",
       "  <thead>\n",
       "    <tr style=\"text-align: right;\">\n",
       "      <th></th>\n",
       "      <th>customerID</th>\n",
       "      <th>gender</th>\n",
       "      <th>Partner</th>\n",
       "      <th>Dependents</th>\n",
       "      <th>PhoneService</th>\n",
       "      <th>MultipleLines</th>\n",
       "      <th>InternetService</th>\n",
       "      <th>OnlineSecurity</th>\n",
       "      <th>OnlineBackup</th>\n",
       "      <th>DeviceProtection</th>\n",
       "      <th>TechSupport</th>\n",
       "      <th>StreamingTV</th>\n",
       "      <th>StreamingMovies</th>\n",
       "      <th>Contract</th>\n",
       "      <th>PaperlessBilling</th>\n",
       "      <th>PaymentMethod</th>\n",
       "      <th>Churn</th>\n",
       "    </tr>\n",
       "  </thead>\n",
       "  <tbody>\n",
       "    <tr>\n",
       "      <th>num_values</th>\n",
       "      <td>7032</td>\n",
       "      <td>2</td>\n",
       "      <td>2</td>\n",
       "      <td>2</td>\n",
       "      <td>2</td>\n",
       "      <td>3</td>\n",
       "      <td>3</td>\n",
       "      <td>3</td>\n",
       "      <td>3</td>\n",
       "      <td>3</td>\n",
       "      <td>3</td>\n",
       "      <td>3</td>\n",
       "      <td>3</td>\n",
       "      <td>3</td>\n",
       "      <td>2</td>\n",
       "      <td>4</td>\n",
       "      <td>2</td>\n",
       "    </tr>\n",
       "    <tr>\n",
       "      <th>value_ratios</th>\n",
       "      <td>{'2369-FEVNO': 0.014, '3800-LYTRK': 0.014, '6100-FJZDG': 0.014, '9512-UIBFX': 0.014, '2040-LDIWQ': 0.014}</td>\n",
       "      <td>{'Male': 50.469, 'Female': 49.531}</td>\n",
       "      <td>{'No': 51.749, 'Yes': 48.251}</td>\n",
       "      <td>{'No': 70.151, 'Yes': 29.849}</td>\n",
       "      <td>{'Yes': 90.33, 'No': 9.67}</td>\n",
       "      <td>{'No': 48.137, 'Yes': 42.193, 'No phone service': 9.67}</td>\n",
       "      <td>{'Fiber optic': 44.027, 'DSL': 34.357, 'No': 21.615}</td>\n",
       "      <td>{'No': 49.73, 'Yes': 28.655, 'No internet service': 21.615}</td>\n",
       "      <td>{'No': 43.899, 'Yes': 34.485, 'No internet service': 21.615}</td>\n",
       "      <td>{'No': 43.999, 'Yes': 34.386, 'No internet service': 21.615}</td>\n",
       "      <td>{'No': 49.374, 'Yes': 29.01, 'No internet service': 21.615}</td>\n",
       "      <td>{'No': 39.946, 'Yes': 38.439, 'No internet service': 21.615}</td>\n",
       "      <td>{'No': 39.548, 'Yes': 38.837, 'No internet service': 21.615}</td>\n",
       "      <td>{'Month-to-month': 55.105, 'Two year': 23.962, 'One year': 20.933}</td>\n",
       "      <td>{'Yes': 59.272, 'No': 40.728}</td>\n",
       "      <td>{'Electronic check': 33.632, 'Mailed check': 22.81, 'Bank transfer (automatic)': 21.928, 'Credit card (automatic)': 21.63}</td>\n",
       "      <td>{'No': 73.422, 'Yes': 26.578}</td>\n",
       "    </tr>\n",
       "  </tbody>\n",
       "</table>\n",
       "</div>"
      ],
      "text/plain": [
       "                                                                                                             customerID  \\\n",
       "num_values                                                                                                         7032   \n",
       "value_ratios  {'2369-FEVNO': 0.014, '3800-LYTRK': 0.014, '6100-FJZDG': 0.014, '9512-UIBFX': 0.014, '2040-LDIWQ': 0.014}   \n",
       "\n",
       "                                          gender  \\\n",
       "num_values                                     2   \n",
       "value_ratios  {'Male': 50.469, 'Female': 49.531}   \n",
       "\n",
       "                                    Partner                     Dependents  \\\n",
       "num_values                                2                              2   \n",
       "value_ratios  {'No': 51.749, 'Yes': 48.251}  {'No': 70.151, 'Yes': 29.849}   \n",
       "\n",
       "                            PhoneService  \\\n",
       "num_values                             2   \n",
       "value_ratios  {'Yes': 90.33, 'No': 9.67}   \n",
       "\n",
       "                                                        MultipleLines  \\\n",
       "num_values                                                          3   \n",
       "value_ratios  {'No': 48.137, 'Yes': 42.193, 'No phone service': 9.67}   \n",
       "\n",
       "                                                   InternetService  \\\n",
       "num_values                                                       3   \n",
       "value_ratios  {'Fiber optic': 44.027, 'DSL': 34.357, 'No': 21.615}   \n",
       "\n",
       "                                                           OnlineSecurity  \\\n",
       "num_values                                                              3   \n",
       "value_ratios  {'No': 49.73, 'Yes': 28.655, 'No internet service': 21.615}   \n",
       "\n",
       "                                                              OnlineBackup  \\\n",
       "num_values                                                               3   \n",
       "value_ratios  {'No': 43.899, 'Yes': 34.485, 'No internet service': 21.615}   \n",
       "\n",
       "                                                          DeviceProtection  \\\n",
       "num_values                                                               3   \n",
       "value_ratios  {'No': 43.999, 'Yes': 34.386, 'No internet service': 21.615}   \n",
       "\n",
       "                                                              TechSupport  \\\n",
       "num_values                                                              3   \n",
       "value_ratios  {'No': 49.374, 'Yes': 29.01, 'No internet service': 21.615}   \n",
       "\n",
       "                                                               StreamingTV  \\\n",
       "num_values                                                               3   \n",
       "value_ratios  {'No': 39.946, 'Yes': 38.439, 'No internet service': 21.615}   \n",
       "\n",
       "                                                           StreamingMovies  \\\n",
       "num_values                                                               3   \n",
       "value_ratios  {'No': 39.548, 'Yes': 38.837, 'No internet service': 21.615}   \n",
       "\n",
       "                                                                        Contract  \\\n",
       "num_values                                                                     3   \n",
       "value_ratios  {'Month-to-month': 55.105, 'Two year': 23.962, 'One year': 20.933}   \n",
       "\n",
       "                           PaperlessBilling  \\\n",
       "num_values                                2   \n",
       "value_ratios  {'Yes': 59.272, 'No': 40.728}   \n",
       "\n",
       "                                                                                                                           PaymentMethod  \\\n",
       "num_values                                                                                                                             4   \n",
       "value_ratios  {'Electronic check': 33.632, 'Mailed check': 22.81, 'Bank transfer (automatic)': 21.928, 'Credit card (automatic)': 21.63}   \n",
       "\n",
       "                                      Churn  \n",
       "num_values                                2  \n",
       "value_ratios  {'No': 73.422, 'Yes': 26.578}  "
      ]
     },
     "execution_count": 17,
     "metadata": {},
     "output_type": "execute_result"
    }
   ],
   "source": [
    "def num_values(df):\n",
    "    return df.nunique()\n",
    "def value_ratios(c):\n",
    "    return dict((c.value_counts(normalize=True) * 100)[0:5].round(3))\n",
    "df[object_cols].agg([num_values, value_ratios])"
   ]
  },
  {
   "cell_type": "markdown",
   "id": "c4291a3b",
   "metadata": {},
   "source": [
    "##### Nhận xét:\n",
    "    + Các cột giá trị không phải số không có gì khác thường"
   ]
  },
  {
   "cell_type": "markdown",
   "id": "de82fe49",
   "metadata": {},
   "source": [
    "## Phân tích các Insights"
   ]
  },
  {
   "cell_type": "markdown",
   "id": "f9cacac3",
   "metadata": {},
   "source": [
    "### Insight 1 : Tác động khiến người dùng thay đổi dịch vụ ( churn = \"yes\")"
   ]
  },
  {
   "cell_type": "markdown",
   "id": "b48c8d86",
   "metadata": {},
   "source": [
    "#### Lấy data với churn = \"yes\""
   ]
  },
  {
   "cell_type": "code",
   "execution_count": 18,
   "id": "190d0307",
   "metadata": {},
   "outputs": [],
   "source": [
    "churn_yes_df = df[df[\"Churn\"] =='Yes']"
   ]
  },
  {
   "cell_type": "markdown",
   "id": "bb0b627a",
   "metadata": {},
   "source": [
    "#### Tính thời gian gắn bó (tenure)"
   ]
  },
  {
   "cell_type": "code",
   "execution_count": 19,
   "id": "a5afa1dd",
   "metadata": {},
   "outputs": [
    {
     "data": {
      "image/png": "[encoded data removed]",
      "text/plain": [
       "<Figure size 432x288 with 1 Axes>"
      ]
     },
     "metadata": {
      "needs_background": "light"
     },
     "output_type": "display_data"
    }
   ],
   "source": [
    "object_cols = churn_yes_df.select_dtypes(include = 'number').columns\n",
    "\n",
    "hist = plt.hist(churn_yes_df['tenure'],  \n",
    "                edgecolor='black')\n",
    "plt.title('Histogram of quiz grades')\n",
    "plt.xlabel('Grade')\n",
    "plt.ylabel('Num students');"
   ]
  },
  {
   "cell_type": "markdown",
   "id": "f8abd7b2",
   "metadata": {},
   "source": [
    "### Nhận xét:\n",
    "    + Ta thấy với thời gian gắn bó ngắn (<10 tháng) thì sẽ tăng tỉ lệ churn\n",
    "    + Ngược lại khi người dùng đã gắn bó lâu với dịch vụ thì tỉ lệ churn sẽ giảm."
   ]
  },
  {
   "cell_type": "code",
   "execution_count": 20,
   "id": "6fa4584c",
   "metadata": {},
   "outputs": [
    {
     "data": {
      "image/png": "[encoded data removed]",
      "text/plain": [
       "<Figure size 720x504 with 1 Axes>"
      ]
     },
     "metadata": {
      "needs_background": "light"
     },
     "output_type": "display_data"
    }
   ],
   "source": [
    "\n",
    "df_tenure = [df[df[\"Churn\"] =='No'][\"tenure\"],df[df[\"Churn\"] =='Yes'][\"tenure\"]]\n",
    "\n",
    "fig = plt.figure(figsize =(10, 7))\n",
    "ax = fig.add_axes([0, 0, 1, 1])\n",
    " \n",
    "# Creating plot\n",
    "ax.boxplot(df_tenure)\n",
    "plt.xticks([1, 2], ['No', 'Yes'])\n",
    "ax.set_ylabel('Tenure count')\n",
    "ax.set_title('Churn by Tenure')\n",
    "# show plot\n",
    "plt.show()"
   ]
  },
  {
   "cell_type": "markdown",
   "id": "349b101d",
   "metadata": {},
   "source": [
    "### Nhận xét \n",
    "    + Ở biểu đồ Churn by tennure ta thấy các khách hàng có thời gian sử dụng dịch vụ thấp (khách hàng mới) sẽ có xu hướng đổi dịch vụ"
   ]
  },
  {
   "cell_type": "code",
   "execution_count": null,
   "id": "5bac918c",
   "metadata": {},
   "outputs": [],
   "source": []
  },
  {
   "cell_type": "code",
   "execution_count": null,
   "id": "33ed624d",
   "metadata": {},
   "outputs": [],
   "source": []
  },
  {
   "cell_type": "markdown",
   "id": "c7eb5ec0",
   "metadata": {},
   "source": [
    "### Insight 2: Tác động làm giảm tỉ lệ Churn"
   ]
  },
  {
   "cell_type": "code",
   "execution_count": null,
   "id": "4bbd6d5f",
   "metadata": {},
   "outputs": [],
   "source": []
  }
 ],
 "metadata": {
  "kernelspec": {
   "display_name": "Python 3",
   "language": "python",
   "name": "python3"
  },
  "language_info": {
   "codemirror_mode": {
    "name": "ipython",
    "version": 3
   },
   "file_extension": ".py",
   "mimetype": "text/x-python",
   "name": "python",
   "nbconvert_exporter": "python",
   "pygments_lexer": "ipython3",
   "version": "3.8.8"
  }
 },
 "nbformat": 4,
 "nbformat_minor": 5
}
