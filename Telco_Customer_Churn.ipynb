{
 "cells": [
  {
   "cell_type": "markdown",
   "id": "0a566892",
   "metadata": {},
   "source": [
    "# Đồ án môn Programming for Data Science"
   ]
  },
  {
   "cell_type": "markdown",
   "id": "1e2cea02",
   "metadata": {},
   "source": [
    "### Sinh viên\n",
    "| Họ và tên           | MSSV     | GitHub profile                     |\n",
    "|---------------------|----------|------------------------------------|\n",
    "| Phạm Nhật Minh      | 18120209 | https://github.com/denvercodernine |\n",
    "| Phạm Tống Bình Minh | 18120210 | https://github.com/ptbminh1108     |"
   ]
  },
  {
   "cell_type": "markdown",
   "id": "3b10b97c",
   "metadata": {},
   "source": [
    "## Import thư viện"
   ]
  },
  {
   "cell_type": "code",
   "execution_count": 1,
   "id": "d1ef9c47",
   "metadata": {},
   "outputs": [],
   "source": [
    "import pandas as pd\n",
    "import numpy as np\n",
    "import matplotlib.pyplot as plt\n",
    "import seaborn as sns"
   ]
  },
  {
   "cell_type": "code",
   "execution_count": 2,
   "id": "baec11aa",
   "metadata": {},
   "outputs": [],
   "source": [
    "pd.set_option('max_colwidth', None)\n",
    "#pd.set_option('display.max_rows', None)\n",
    "pd.set_option('display.max_columns', None)\n",
    "#pd.set_option('display.width', None)"
   ]
  },
  {
   "cell_type": "code",
   "execution_count": 3,
   "id": "24ca701e",
   "metadata": {},
   "outputs": [],
   "source": [
    "plt.style.use('Solarize_Light2')"
   ]
  },
  {
   "cell_type": "markdown",
   "id": "e4776cbf",
   "metadata": {},
   "source": [
    "# Thông tin về dữ liệu"
   ]
  },
  {
   "cell_type": "markdown",
   "id": "56c840f0",
   "metadata": {},
   "source": [
    "### Chủ đề:\n",
    "Nhóm sử dụng dữ liệu nói về thông tin khách hàng của một công tin viễn thông cung cấp dịch vụ điện thoại và internet cho 7043 hộ dân tại Califonia trong quý 3. Thông tin cho biết khách hàng nào đã rời đi, ở lại và các dịch vụ khách hàng sử dụng, cũng như chi phí và một số thông tin cá nhân của khách hàng như độ tuổi, tình trạng hôn nhân và con cái.\n",
    "\n",
    "### Nguồn dữ liệu:\n",
    "Dữ liệu này được public trên Kaggle ([Telco Customer Churn](https://www.kaggle.com/blastchar/telco-customer-churn)).\n",
    "\n",
    "Dữ liệu cũng có thể được tải về tại [IBM community](https://community.ibm.com/accelerators/catalog/content/Telco-customer-churn) (version mới nhất, version trên Kaggle được nhóm sử dụng là của IBM Cognos Analytics v1.11.1)\n",
    "\n",
    "### Có được dùng dữ liệu không?\n",
    "License của dữ liệu: Creative Commons (theo [tác giả dataset ở Kaggle](https://www.kaggle.com/blastchar/telco-customer-churn/discussion/82422)) &rarr; Có thể sử dụng dữ liệu.\n",
    "\n",
    "Tuy nhiên, phiên bản mới nhất của dataset tại IBM community không có thông tin về license.\n",
    "### Phương pháp thu thập dữ liệu\n",
    "Dữ liệu này là giả tưởng và IBM không cung cấp thêm thông tin, do đó không rõ cách thu thập của dữ liệu. Tuy nhiên, ta có thể đoán là dữ liệu được thu thập từ một công ty viễn thông ở Mỹ, sau đó được IBM chỉnh sửa và đóng gói lại để phục vụ cho phần mềm IBM Cognos Analytics."
   ]
  },
  {
   "cell_type": "markdown",
   "id": "6c19aaf3",
   "metadata": {},
   "source": [
    "## Đọc dữ liệu"
   ]
  },
  {
   "cell_type": "code",
   "execution_count": 4,
   "id": "bdc088b5",
   "metadata": {},
   "outputs": [],
   "source": [
    "df = pd.read_csv(\"data.csv\")"
   ]
  },
  {
   "cell_type": "code",
   "execution_count": 5,
   "id": "5c3efd47",
   "metadata": {},
   "outputs": [
    {
     "data": {
      "text/html": [
       "<div>\n",
       "<style scoped>\n",
       "    .dataframe tbody tr th:only-of-type {\n",
       "        vertical-align: middle;\n",
       "    }\n",
       "\n",
       "    .dataframe tbody tr th {\n",
       "        vertical-align: top;\n",
       "    }\n",
       "\n",
       "    .dataframe thead th {\n",
       "        text-align: right;\n",
       "    }\n",
       "</style>\n",
       "<table border=\"1\" class=\"dataframe\">\n",
       "  <thead>\n",
       "    <tr style=\"text-align: right;\">\n",
       "      <th></th>\n",
       "      <th>customerID</th>\n",
       "      <th>gender</th>\n",
       "      <th>SeniorCitizen</th>\n",
       "      <th>Partner</th>\n",
       "      <th>Dependents</th>\n",
       "      <th>tenure</th>\n",
       "      <th>PhoneService</th>\n",
       "      <th>MultipleLines</th>\n",
       "      <th>InternetService</th>\n",
       "      <th>OnlineSecurity</th>\n",
       "      <th>OnlineBackup</th>\n",
       "      <th>DeviceProtection</th>\n",
       "      <th>TechSupport</th>\n",
       "      <th>StreamingTV</th>\n",
       "      <th>StreamingMovies</th>\n",
       "      <th>Contract</th>\n",
       "      <th>PaperlessBilling</th>\n",
       "      <th>PaymentMethod</th>\n",
       "      <th>MonthlyCharges</th>\n",
       "      <th>TotalCharges</th>\n",
       "      <th>Churn</th>\n",
       "    </tr>\n",
       "  </thead>\n",
       "  <tbody>\n",
       "    <tr>\n",
       "      <th>0</th>\n",
       "      <td>7590-VHVEG</td>\n",
       "      <td>Female</td>\n",
       "      <td>0</td>\n",
       "      <td>Yes</td>\n",
       "      <td>No</td>\n",
       "      <td>1</td>\n",
       "      <td>No</td>\n",
       "      <td>No phone service</td>\n",
       "      <td>DSL</td>\n",
       "      <td>No</td>\n",
       "      <td>Yes</td>\n",
       "      <td>No</td>\n",
       "      <td>No</td>\n",
       "      <td>No</td>\n",
       "      <td>No</td>\n",
       "      <td>Month-to-month</td>\n",
       "      <td>Yes</td>\n",
       "      <td>Electronic check</td>\n",
       "      <td>29.85</td>\n",
       "      <td>29.85</td>\n",
       "      <td>No</td>\n",
       "    </tr>\n",
       "    <tr>\n",
       "      <th>1</th>\n",
       "      <td>5575-GNVDE</td>\n",
       "      <td>Male</td>\n",
       "      <td>0</td>\n",
       "      <td>No</td>\n",
       "      <td>No</td>\n",
       "      <td>34</td>\n",
       "      <td>Yes</td>\n",
       "      <td>No</td>\n",
       "      <td>DSL</td>\n",
       "      <td>Yes</td>\n",
       "      <td>No</td>\n",
       "      <td>Yes</td>\n",
       "      <td>No</td>\n",
       "      <td>No</td>\n",
       "      <td>No</td>\n",
       "      <td>One year</td>\n",
       "      <td>No</td>\n",
       "      <td>Mailed check</td>\n",
       "      <td>56.95</td>\n",
       "      <td>1889.5</td>\n",
       "      <td>No</td>\n",
       "    </tr>\n",
       "    <tr>\n",
       "      <th>2</th>\n",
       "      <td>3668-QPYBK</td>\n",
       "      <td>Male</td>\n",
       "      <td>0</td>\n",
       "      <td>No</td>\n",
       "      <td>No</td>\n",
       "      <td>2</td>\n",
       "      <td>Yes</td>\n",
       "      <td>No</td>\n",
       "      <td>DSL</td>\n",
       "      <td>Yes</td>\n",
       "      <td>Yes</td>\n",
       "      <td>No</td>\n",
       "      <td>No</td>\n",
       "      <td>No</td>\n",
       "      <td>No</td>\n",
       "      <td>Month-to-month</td>\n",
       "      <td>Yes</td>\n",
       "      <td>Mailed check</td>\n",
       "      <td>53.85</td>\n",
       "      <td>108.15</td>\n",
       "      <td>Yes</td>\n",
       "    </tr>\n",
       "    <tr>\n",
       "      <th>3</th>\n",
       "      <td>7795-CFOCW</td>\n",
       "      <td>Male</td>\n",
       "      <td>0</td>\n",
       "      <td>No</td>\n",
       "      <td>No</td>\n",
       "      <td>45</td>\n",
       "      <td>No</td>\n",
       "      <td>No phone service</td>\n",
       "      <td>DSL</td>\n",
       "      <td>Yes</td>\n",
       "      <td>No</td>\n",
       "      <td>Yes</td>\n",
       "      <td>Yes</td>\n",
       "      <td>No</td>\n",
       "      <td>No</td>\n",
       "      <td>One year</td>\n",
       "      <td>No</td>\n",
       "      <td>Bank transfer (automatic)</td>\n",
       "      <td>42.30</td>\n",
       "      <td>1840.75</td>\n",
       "      <td>No</td>\n",
       "    </tr>\n",
       "    <tr>\n",
       "      <th>4</th>\n",
       "      <td>9237-HQITU</td>\n",
       "      <td>Female</td>\n",
       "      <td>0</td>\n",
       "      <td>No</td>\n",
       "      <td>No</td>\n",
       "      <td>2</td>\n",
       "      <td>Yes</td>\n",
       "      <td>No</td>\n",
       "      <td>Fiber optic</td>\n",
       "      <td>No</td>\n",
       "      <td>No</td>\n",
       "      <td>No</td>\n",
       "      <td>No</td>\n",
       "      <td>No</td>\n",
       "      <td>No</td>\n",
       "      <td>Month-to-month</td>\n",
       "      <td>Yes</td>\n",
       "      <td>Electronic check</td>\n",
       "      <td>70.70</td>\n",
       "      <td>151.65</td>\n",
       "      <td>Yes</td>\n",
       "    </tr>\n",
       "  </tbody>\n",
       "</table>\n",
       "</div>"
      ],
      "text/plain": [
       "   customerID  gender  SeniorCitizen Partner Dependents  tenure PhoneService  \\\n",
       "0  7590-VHVEG  Female              0     Yes         No       1           No   \n",
       "1  5575-GNVDE    Male              0      No         No      34          Yes   \n",
       "2  3668-QPYBK    Male              0      No         No       2          Yes   \n",
       "3  7795-CFOCW    Male              0      No         No      45           No   \n",
       "4  9237-HQITU  Female              0      No         No       2          Yes   \n",
       "\n",
       "      MultipleLines InternetService OnlineSecurity OnlineBackup  \\\n",
       "0  No phone service             DSL             No          Yes   \n",
       "1                No             DSL            Yes           No   \n",
       "2                No             DSL            Yes          Yes   \n",
       "3  No phone service             DSL            Yes           No   \n",
       "4                No     Fiber optic             No           No   \n",
       "\n",
       "  DeviceProtection TechSupport StreamingTV StreamingMovies        Contract  \\\n",
       "0               No          No          No              No  Month-to-month   \n",
       "1              Yes          No          No              No        One year   \n",
       "2               No          No          No              No  Month-to-month   \n",
       "3              Yes         Yes          No              No        One year   \n",
       "4               No          No          No              No  Month-to-month   \n",
       "\n",
       "  PaperlessBilling              PaymentMethod  MonthlyCharges TotalCharges  \\\n",
       "0              Yes           Electronic check           29.85        29.85   \n",
       "1               No               Mailed check           56.95       1889.5   \n",
       "2              Yes               Mailed check           53.85       108.15   \n",
       "3               No  Bank transfer (automatic)           42.30      1840.75   \n",
       "4              Yes           Electronic check           70.70       151.65   \n",
       "\n",
       "  Churn  \n",
       "0    No  \n",
       "1    No  \n",
       "2   Yes  \n",
       "3    No  \n",
       "4   Yes  "
      ]
     },
     "execution_count": 5,
     "metadata": {},
     "output_type": "execute_result"
    }
   ],
   "source": [
    "df.head()"
   ]
  },
  {
   "cell_type": "markdown",
   "id": "72c3aef0",
   "metadata": {},
   "source": [
    "## Khám phá dữ liệu"
   ]
  },
  {
   "cell_type": "code",
   "execution_count": 6,
   "id": "bfad6153",
   "metadata": {},
   "outputs": [
    {
     "data": {
      "text/plain": [
       "(7043, 21)"
      ]
     },
     "execution_count": 6,
     "metadata": {},
     "output_type": "execute_result"
    }
   ],
   "source": [
    "df.shape"
   ]
  },
  {
   "cell_type": "markdown",
   "id": "67994444",
   "metadata": {},
   "source": [
    "Dữ liệu có 7043 dòng và 21 cột"
   ]
  },
  {
   "cell_type": "markdown",
   "id": "7a47ba24",
   "metadata": {},
   "source": [
    "### Dữ liệu có các dòng bị lặp không?"
   ]
  },
  {
   "cell_type": "code",
   "execution_count": 7,
   "id": "4513588f",
   "metadata": {},
   "outputs": [
    {
     "data": {
      "text/plain": [
       "0"
      ]
     },
     "execution_count": 7,
     "metadata": {},
     "output_type": "execute_result"
    }
   ],
   "source": [
    "df.duplicated().sum()"
   ]
  },
  {
   "cell_type": "markdown",
   "id": "2accb538",
   "metadata": {},
   "source": [
    "dữ liệu không bị lặp"
   ]
  },
  {
   "cell_type": "markdown",
   "id": "40890605",
   "metadata": {},
   "source": [
    "### Xem ý nghĩa của các cột"
   ]
  },
  {
   "cell_type": "markdown",
   "id": "25dd6d0c",
   "metadata": {},
   "source": [
    "Dưới đây là phần mô tả của các cột trong tập dữ liệu\n",
    "\n",
    "- **CustomerID**: Định danh duy nhất mỗi khách hàng\n",
    "- **gender** : Giới tính (male or female)\n",
    "- **SeniorCitizen**: Khách hàng là người cao tuổi (1: có , 0: không)\n",
    "- **Partner**: Khách hàng có vợ hoặc chồng hay không (Yes, No)\n",
    "- **Dependents**: Khách hàng có người phụ thuộc hay không (Yes, No)\n",
    "- **tenure**: Số tháng khách hàng duy trì dịch vụ với công ty \n",
    "- **PhoneService**: Khách hàng có sử dụng dịch vụ điện thoại hay không\n",
    "- **MultipleLines**: Khách hàng có sử dụng dịch vụ \"MultipleLines\" hay không (Yes, No, No phone service)\n",
    "- **InternetService**: Khách hàng có sử dụng dịch vụ Internet hay không (DSL, Fiber optic, No)\n",
    "- **OnlineSecurity**: Khách hàng có sử dụng dịch vụ \"OnlineSecurity\" hay không (Yes, No, No internet service)\n",
    "- **OnlineBackup**: Khách hàng có sử dụng dịch vụ \"OnlineBackup\" hay không (Yes, No, No internet service)\n",
    "- **DeviceProtection**: Khách hàng có sử dụng dịch vụ \"DeviceProtection\" hay không (Yes, No, No internet service)\n",
    "- **TechSupport**: Khách hàng có sử dụng dịch vụ \"TechSupport\" hay không (Yes, No, No internet service)\n",
    "- **StreamingTV**: Khách hàng có sử dụng dịch vụ \"StreamingTV\" hay không (Yes, No, No internet service)\n",
    "- **StreamingMovies**: Khách hàng có sử dụng dịch vụ \"StreamingMovies\" hay không (Yes, No, No internet service)\n",
    "- **Contract**: Thời hạn hợp động dịch vụ (Month-to-month, One year, Two year)\n",
    "- **PaperlessBilling**: Hóa đơn điện tử (Yes or No)\n",
    "- **PaymentMethod**: Phương thức thanh toán (Electronic check, Mailed check, Bank transfer (automatic), Credit card (automatic))\n",
    "- **MonthlyCharges**: Chi phí dịch vụ hàng tháng\n",
    "- **TotalCharges**: Tổng chi phí dịch phụ khách hàng trả\n",
    "- **Churn**: Khách hàng có cắt hợp đồng dịch vụ không"
   ]
  },
  {
   "cell_type": "markdown",
   "id": "598e694f",
   "metadata": {},
   "source": [
    "### Xem tỉ lệ dữ liệu bị thiếu"
   ]
  },
  {
   "cell_type": "code",
   "execution_count": 8,
   "id": "70b80446",
   "metadata": {},
   "outputs": [],
   "source": [
    "def missing_ratio(df):\n",
    "    return (df.isna().mean() * 100).round(1)"
   ]
  },
  {
   "cell_type": "code",
   "execution_count": 9,
   "id": "d4f781da",
   "metadata": {},
   "outputs": [
    {
     "data": {
      "text/plain": [
       "Series([], dtype: float64)"
      ]
     },
     "execution_count": 9,
     "metadata": {},
     "output_type": "execute_result"
    }
   ],
   "source": [
    "missing = df.agg(missing_ratio)\n",
    "missing[missing > 0]"
   ]
  },
  {
   "cell_type": "markdown",
   "id": "540c9704",
   "metadata": {},
   "source": [
    "Có vẻ như không có cột nào bị thiếu"
   ]
  },
  {
   "cell_type": "markdown",
   "id": "a8c23d43",
   "metadata": {},
   "source": [
    "### Xem kiểu dữ liệu của các cột"
   ]
  },
  {
   "cell_type": "code",
   "execution_count": 10,
   "id": "bc81a08a",
   "metadata": {},
   "outputs": [
    {
     "data": {
      "text/plain": [
       "customerID           object\n",
       "gender               object\n",
       "SeniorCitizen         int64\n",
       "Partner              object\n",
       "Dependents           object\n",
       "tenure                int64\n",
       "PhoneService         object\n",
       "MultipleLines        object\n",
       "InternetService      object\n",
       "OnlineSecurity       object\n",
       "OnlineBackup         object\n",
       "DeviceProtection     object\n",
       "TechSupport          object\n",
       "StreamingTV          object\n",
       "StreamingMovies      object\n",
       "Contract             object\n",
       "PaperlessBilling     object\n",
       "PaymentMethod        object\n",
       "MonthlyCharges      float64\n",
       "TotalCharges         object\n",
       "Churn                object\n",
       "dtype: object"
      ]
     },
     "execution_count": 10,
     "metadata": {},
     "output_type": "execute_result"
    }
   ],
   "source": [
    "df.dtypes"
   ]
  },
  {
   "cell_type": "markdown",
   "id": "069e1ad6",
   "metadata": {},
   "source": [
    "+ Ta thấy cột TotalCharge là dạng object nên ta cần chuyển về kiểu float ở phần Tiền xử lý"
   ]
  },
  {
   "cell_type": "markdown",
   "id": "473ce11d",
   "metadata": {},
   "source": [
    "## Tiền xử lý"
   ]
  },
  {
   "cell_type": "markdown",
   "id": "125640df",
   "metadata": {},
   "source": [
    "#### chuyển cột \"TotalCharges\" từ object thành float64"
   ]
  },
  {
   "cell_type": "code",
   "execution_count": 11,
   "id": "386d9c1d",
   "metadata": {},
   "outputs": [],
   "source": [
    "df['TotalCharges'] = pd.to_numeric(df['TotalCharges'], errors='coerce')"
   ]
  },
  {
   "cell_type": "markdown",
   "id": "8a73e589",
   "metadata": {},
   "source": [
    "#### check lại tỉ lệ bị thiếu"
   ]
  },
  {
   "cell_type": "code",
   "execution_count": 12,
   "id": "031deb61",
   "metadata": {},
   "outputs": [
    {
     "data": {
      "text/plain": [
       "TotalCharges    0.2\n",
       "dtype: float64"
      ]
     },
     "execution_count": 12,
     "metadata": {},
     "output_type": "execute_result"
    }
   ],
   "source": [
    "missing = df.agg(missing_ratio)\n",
    "missing[missing > 0]"
   ]
  },
  {
   "cell_type": "markdown",
   "id": "79748183",
   "metadata": {},
   "source": [
    "#### Nhận xét:\n",
    "\n",
    "    + Vì dữ liệu bị thiếu ở cột TotalChagre không nhiều và dữ liệu còn lại khá lớn nên ta xóa các dòng bị khuyết"
   ]
  },
  {
   "cell_type": "code",
   "execution_count": 13,
   "id": "8dacc9fe",
   "metadata": {},
   "outputs": [],
   "source": [
    "df.dropna(inplace= True)"
   ]
  },
  {
   "cell_type": "markdown",
   "id": "2552fdc3",
   "metadata": {},
   "source": [
    "### Với mỗi cột có kiểu dữ liệu có dạng số, các giá trị được phân bố như thế nào?"
   ]
  },
  {
   "cell_type": "code",
   "execution_count": 14,
   "id": "cea41d2a",
   "metadata": {},
   "outputs": [
    {
     "data": {
      "text/plain": [
       "Index(['SeniorCitizen', 'tenure', 'MonthlyCharges', 'TotalCharges'], dtype='object')"
      ]
     },
     "execution_count": 14,
     "metadata": {},
     "output_type": "execute_result"
    }
   ],
   "source": [
    "num_cols = df.select_dtypes(include = 'number').columns\n",
    "num_cols"
   ]
  },
  {
   "cell_type": "code",
   "execution_count": 15,
   "id": "5fc588ac",
   "metadata": {},
   "outputs": [],
   "source": [
    "def lower_quartile(df):\n",
    "    return df.quantile(0.25).round(1)\n",
    "def median(df):\n",
    "    return df.quantile(0.5).round(1)\n",
    "def upper_quartile(df):\n",
    "    return df.quantile(0.75).round(1)"
   ]
  },
  {
   "cell_type": "code",
   "execution_count": 16,
   "id": "592942de",
   "metadata": {},
   "outputs": [
    {
     "data": {
      "text/html": [
       "<div>\n",
       "<style scoped>\n",
       "    .dataframe tbody tr th:only-of-type {\n",
       "        vertical-align: middle;\n",
       "    }\n",
       "\n",
       "    .dataframe tbody tr th {\n",
       "        vertical-align: top;\n",
       "    }\n",
       "\n",
       "    .dataframe thead th {\n",
       "        text-align: right;\n",
       "    }\n",
       "</style>\n",
       "<table border=\"1\" class=\"dataframe\">\n",
       "  <thead>\n",
       "    <tr style=\"text-align: right;\">\n",
       "      <th></th>\n",
       "      <th>SeniorCitizen</th>\n",
       "      <th>tenure</th>\n",
       "      <th>MonthlyCharges</th>\n",
       "      <th>TotalCharges</th>\n",
       "    </tr>\n",
       "  </thead>\n",
       "  <tbody>\n",
       "    <tr>\n",
       "      <th>min</th>\n",
       "      <td>0.0</td>\n",
       "      <td>1.0</td>\n",
       "      <td>18.25</td>\n",
       "      <td>18.8</td>\n",
       "    </tr>\n",
       "    <tr>\n",
       "      <th>lower_quartile</th>\n",
       "      <td>0.0</td>\n",
       "      <td>9.0</td>\n",
       "      <td>35.60</td>\n",
       "      <td>401.4</td>\n",
       "    </tr>\n",
       "    <tr>\n",
       "      <th>median</th>\n",
       "      <td>0.0</td>\n",
       "      <td>29.0</td>\n",
       "      <td>70.40</td>\n",
       "      <td>1397.5</td>\n",
       "    </tr>\n",
       "    <tr>\n",
       "      <th>upper_quartile</th>\n",
       "      <td>0.0</td>\n",
       "      <td>55.0</td>\n",
       "      <td>89.90</td>\n",
       "      <td>3794.7</td>\n",
       "    </tr>\n",
       "    <tr>\n",
       "      <th>max</th>\n",
       "      <td>1.0</td>\n",
       "      <td>72.0</td>\n",
       "      <td>118.75</td>\n",
       "      <td>8684.8</td>\n",
       "    </tr>\n",
       "  </tbody>\n",
       "</table>\n",
       "</div>"
      ],
      "text/plain": [
       "                SeniorCitizen  tenure  MonthlyCharges  TotalCharges\n",
       "min                       0.0     1.0           18.25          18.8\n",
       "lower_quartile            0.0     9.0           35.60         401.4\n",
       "median                    0.0    29.0           70.40        1397.5\n",
       "upper_quartile            0.0    55.0           89.90        3794.7\n",
       "max                       1.0    72.0          118.75        8684.8"
      ]
     },
     "execution_count": 16,
     "metadata": {},
     "output_type": "execute_result"
    }
   ],
   "source": [
    "df[num_cols].agg([min,lower_quartile, median, upper_quartile,max])"
   ]
  },
  {
   "cell_type": "markdown",
   "id": "055c1286",
   "metadata": {},
   "source": [
    "##### Nhận xét:\n",
    "    + Các cột giá trị số không có gì khác thường"
   ]
  },
  {
   "cell_type": "markdown",
   "id": "9a47e311",
   "metadata": {},
   "source": [
    "### Với mỗi cột có kiểu dữ liệu không phải dạng số, các giá trị được phân bố như thế nào?"
   ]
  },
  {
   "cell_type": "code",
   "execution_count": 17,
   "id": "1ecbe1ac",
   "metadata": {},
   "outputs": [],
   "source": [
    "object_cols = df.select_dtypes(exclude = ['number']).columns"
   ]
  },
  {
   "cell_type": "code",
   "execution_count": 18,
   "id": "acc5846b",
   "metadata": {},
   "outputs": [
    {
     "data": {
      "text/html": [
       "<div>\n",
       "<style scoped>\n",
       "    .dataframe tbody tr th:only-of-type {\n",
       "        vertical-align: middle;\n",
       "    }\n",
       "\n",
       "    .dataframe tbody tr th {\n",
       "        vertical-align: top;\n",
       "    }\n",
       "\n",
       "    .dataframe thead th {\n",
       "        text-align: right;\n",
       "    }\n",
       "</style>\n",
       "<table border=\"1\" class=\"dataframe\">\n",
       "  <thead>\n",
       "    <tr style=\"text-align: right;\">\n",
       "      <th></th>\n",
       "      <th>customerID</th>\n",
       "      <th>gender</th>\n",
       "      <th>Partner</th>\n",
       "      <th>Dependents</th>\n",
       "      <th>PhoneService</th>\n",
       "      <th>MultipleLines</th>\n",
       "      <th>InternetService</th>\n",
       "      <th>OnlineSecurity</th>\n",
       "      <th>OnlineBackup</th>\n",
       "      <th>DeviceProtection</th>\n",
       "      <th>TechSupport</th>\n",
       "      <th>StreamingTV</th>\n",
       "      <th>StreamingMovies</th>\n",
       "      <th>Contract</th>\n",
       "      <th>PaperlessBilling</th>\n",
       "      <th>PaymentMethod</th>\n",
       "      <th>Churn</th>\n",
       "    </tr>\n",
       "  </thead>\n",
       "  <tbody>\n",
       "    <tr>\n",
       "      <th>num_values</th>\n",
       "      <td>7032</td>\n",
       "      <td>2</td>\n",
       "      <td>2</td>\n",
       "      <td>2</td>\n",
       "      <td>2</td>\n",
       "      <td>3</td>\n",
       "      <td>3</td>\n",
       "      <td>3</td>\n",
       "      <td>3</td>\n",
       "      <td>3</td>\n",
       "      <td>3</td>\n",
       "      <td>3</td>\n",
       "      <td>3</td>\n",
       "      <td>3</td>\n",
       "      <td>2</td>\n",
       "      <td>4</td>\n",
       "      <td>2</td>\n",
       "    </tr>\n",
       "    <tr>\n",
       "      <th>value_ratios</th>\n",
       "      <td>{'6481-OGDOO': 0.014, '2275-RBYQS': 0.014, '4530-NDRKU': 0.014, '8439-LTUGF': 0.014, '9359-UGBTK': 0.014}</td>\n",
       "      <td>{'Male': 50.469, 'Female': 49.531}</td>\n",
       "      <td>{'No': 51.749, 'Yes': 48.251}</td>\n",
       "      <td>{'No': 70.151, 'Yes': 29.849}</td>\n",
       "      <td>{'Yes': 90.33, 'No': 9.67}</td>\n",
       "      <td>{'No': 48.137, 'Yes': 42.193, 'No phone service': 9.67}</td>\n",
       "      <td>{'Fiber optic': 44.027, 'DSL': 34.357, 'No': 21.615}</td>\n",
       "      <td>{'No': 49.73, 'Yes': 28.655, 'No internet service': 21.615}</td>\n",
       "      <td>{'No': 43.899, 'Yes': 34.485, 'No internet service': 21.615}</td>\n",
       "      <td>{'No': 43.999, 'Yes': 34.386, 'No internet service': 21.615}</td>\n",
       "      <td>{'No': 49.374, 'Yes': 29.01, 'No internet service': 21.615}</td>\n",
       "      <td>{'No': 39.946, 'Yes': 38.439, 'No internet service': 21.615}</td>\n",
       "      <td>{'No': 39.548, 'Yes': 38.837, 'No internet service': 21.615}</td>\n",
       "      <td>{'Month-to-month': 55.105, 'Two year': 23.962, 'One year': 20.933}</td>\n",
       "      <td>{'Yes': 59.272, 'No': 40.728}</td>\n",
       "      <td>{'Electronic check': 33.632, 'Mailed check': 22.81, 'Bank transfer (automatic)': 21.928, 'Credit card (automatic)': 21.63}</td>\n",
       "      <td>{'No': 73.422, 'Yes': 26.578}</td>\n",
       "    </tr>\n",
       "  </tbody>\n",
       "</table>\n",
       "</div>"
      ],
      "text/plain": [
       "                                                                                                             customerID  \\\n",
       "num_values                                                                                                         7032   \n",
       "value_ratios  {'6481-OGDOO': 0.014, '2275-RBYQS': 0.014, '4530-NDRKU': 0.014, '8439-LTUGF': 0.014, '9359-UGBTK': 0.014}   \n",
       "\n",
       "                                          gender  \\\n",
       "num_values                                     2   \n",
       "value_ratios  {'Male': 50.469, 'Female': 49.531}   \n",
       "\n",
       "                                    Partner                     Dependents  \\\n",
       "num_values                                2                              2   \n",
       "value_ratios  {'No': 51.749, 'Yes': 48.251}  {'No': 70.151, 'Yes': 29.849}   \n",
       "\n",
       "                            PhoneService  \\\n",
       "num_values                             2   \n",
       "value_ratios  {'Yes': 90.33, 'No': 9.67}   \n",
       "\n",
       "                                                        MultipleLines  \\\n",
       "num_values                                                          3   \n",
       "value_ratios  {'No': 48.137, 'Yes': 42.193, 'No phone service': 9.67}   \n",
       "\n",
       "                                                   InternetService  \\\n",
       "num_values                                                       3   \n",
       "value_ratios  {'Fiber optic': 44.027, 'DSL': 34.357, 'No': 21.615}   \n",
       "\n",
       "                                                           OnlineSecurity  \\\n",
       "num_values                                                              3   \n",
       "value_ratios  {'No': 49.73, 'Yes': 28.655, 'No internet service': 21.615}   \n",
       "\n",
       "                                                              OnlineBackup  \\\n",
       "num_values                                                               3   \n",
       "value_ratios  {'No': 43.899, 'Yes': 34.485, 'No internet service': 21.615}   \n",
       "\n",
       "                                                          DeviceProtection  \\\n",
       "num_values                                                               3   \n",
       "value_ratios  {'No': 43.999, 'Yes': 34.386, 'No internet service': 21.615}   \n",
       "\n",
       "                                                              TechSupport  \\\n",
       "num_values                                                              3   \n",
       "value_ratios  {'No': 49.374, 'Yes': 29.01, 'No internet service': 21.615}   \n",
       "\n",
       "                                                               StreamingTV  \\\n",
       "num_values                                                               3   \n",
       "value_ratios  {'No': 39.946, 'Yes': 38.439, 'No internet service': 21.615}   \n",
       "\n",
       "                                                           StreamingMovies  \\\n",
       "num_values                                                               3   \n",
       "value_ratios  {'No': 39.548, 'Yes': 38.837, 'No internet service': 21.615}   \n",
       "\n",
       "                                                                        Contract  \\\n",
       "num_values                                                                     3   \n",
       "value_ratios  {'Month-to-month': 55.105, 'Two year': 23.962, 'One year': 20.933}   \n",
       "\n",
       "                           PaperlessBilling  \\\n",
       "num_values                                2   \n",
       "value_ratios  {'Yes': 59.272, 'No': 40.728}   \n",
       "\n",
       "                                                                                                                           PaymentMethod  \\\n",
       "num_values                                                                                                                             4   \n",
       "value_ratios  {'Electronic check': 33.632, 'Mailed check': 22.81, 'Bank transfer (automatic)': 21.928, 'Credit card (automatic)': 21.63}   \n",
       "\n",
       "                                      Churn  \n",
       "num_values                                2  \n",
       "value_ratios  {'No': 73.422, 'Yes': 26.578}  "
      ]
     },
     "execution_count": 18,
     "metadata": {},
     "output_type": "execute_result"
    }
   ],
   "source": [
    "def num_values(df):\n",
    "    return df.nunique()\n",
    "def value_ratios(c):\n",
    "    return dict((c.value_counts(normalize=True) * 100)[0:5].round(3))\n",
    "df[object_cols].agg([num_values, value_ratios])\n",
    "df[object_cols].agg([num_values, value_ratios])"
   ]
  },
  {
   "cell_type": "markdown",
   "id": "6317202e",
   "metadata": {},
   "source": [
    "##### Nhận xét:\n",
    "- Ta thấy ở cột Phone Service có tỉ lệ \"No\" là 9.67% và cột MultipleLines có tỉ lệ \"No phone service\" cũng là 9.67%. Điều này hiển nhiên vì nếu không đăng ký dịch vụ \"PhoneService\" thì không sử dụng được dịch vụ MutipleLines\n",
    "- Ta thấy các cột \"OnlineSecurity\",\"OnlineBackup\",\"DeviceProtection\",\"TechSupport\",\"StreamingTV\",\"StreamingMovies\" đều có tỉ lệ \"No internet service\" bắng 21.615% bằng với cột \"InternetService\" có tỉ lệ \"No\" là 21.615%. Điều này suy ra được là InternetServer là điều kiện cần để đăng ký các dịch vụ nêu trên."
   ]
  },
  {
   "cell_type": "markdown",
   "id": "cabcc1f8",
   "metadata": {},
   "source": [
    "## Phân tích các Insights"
   ]
  },
  {
   "cell_type": "markdown",
   "id": "bcf81513",
   "metadata": {},
   "source": [
    "# Câu hỏi đầu tiên: Tại sao người dùng thay đổi dịch vụ?\n",
    "### Insight 1 : Lý do khiến người dùng thay đổi dịch vụ ( churn = \"yes\")\n",
    "#### Ý nghĩa: \n",
    "- Hiểu được nguyên nhân người dùng thay đổi dịch vụ\n",
    "\n",
    "&rarr; Khắc phục những nguyên nhân này, từ đó có phương án giữ chân khách hàng."
   ]
  },
  {
   "cell_type": "markdown",
   "id": "5bb689ac",
   "metadata": {},
   "source": [
    "### Lấy data với churn = \"yes\" và churn = \"no\""
   ]
  },
  {
   "cell_type": "code",
   "execution_count": 19,
   "id": "086e9ca2",
   "metadata": {},
   "outputs": [],
   "source": [
    "churn_yes_df = df[df[\"Churn\"] =='Yes']\n",
    "churn_no_df = df[df[\"Churn\"] =='No']"
   ]
  },
  {
   "cell_type": "markdown",
   "id": "60259a2f",
   "metadata": {},
   "source": [
    "### Tính thời gian gắn bó (tenure)"
   ]
  },
  {
   "cell_type": "code",
   "execution_count": 20,
   "id": "258f80c7",
   "metadata": {},
   "outputs": [
    {
     "data": {
      "image/png": "[encoded data removed]",
      "text/plain": [
       "<Figure size 432x288 with 1 Axes>"
      ]
     },
     "metadata": {},
     "output_type": "display_data"
    }
   ],
   "source": [
    "hist = plt.hist(churn_yes_df['tenure'],  \n",
    "                edgecolor='black', bins = range(0,73,12), color=['orange'])\n",
    "plt.xticks(range(0,73,12))\n",
    "plt.title('Tenure histogram of churning users')\n",
    "plt.xlabel('Tenure (months)')\n",
    "plt.ylabel('Number of customers');"
   ]
  },
  {
   "cell_type": "markdown",
   "id": "096174ce",
   "metadata": {},
   "source": [
    "### Nhận xét:\n",
    "    + Biểu đồ thể hiên với thời gian gắn bó ngắn (<12 tháng) thì sẽ tăng tỉ lệ churn\n",
    "    + Ngược lại khi người dùng đã gắn bó lâu với dịch vụ thì tỉ lệ churn sẽ ít hơn.\n",
    " => Có thể nhận định rằng khoảng thời gian 12 tháng đầu là quan trọng nhất để giữ chân khách hàng với dịch vụ"
   ]
  },
  {
   "cell_type": "markdown",
   "id": "59fa1fb6",
   "metadata": {},
   "source": [
    "### Phí hàng tháng (Monthly Charge)"
   ]
  },
  {
   "cell_type": "code",
   "execution_count": 21,
   "id": "f7279756",
   "metadata": {},
   "outputs": [
    {
     "data": {
      "image/png": "[encoded data removed]",
      "text/plain": [
       "<Figure size 432x288 with 1 Axes>"
      ]
     },
     "metadata": {},
     "output_type": "display_data"
    }
   ],
   "source": [
    "sns.kdeplot(churn_yes_df[\"MonthlyCharges\"],color='red',label='Churn: Yes')\n",
    "plt.legend()\n",
    "plt.title(\"Monthly charges (with churn = yes) \")\n",
    "plt.xlabel(\"Monthly charges\")\n",
    "plt.show()"
   ]
  },
  {
   "cell_type": "markdown",
   "id": "9ef65fb7",
   "metadata": {},
   "source": [
    "### Nhận xét :\n",
    "- Từ 70 đến 90 là mức phí hàng tháng quá cao khiến người dùng thay đổi dịch vụ."
   ]
  },
  {
   "cell_type": "markdown",
   "id": "3e444d45",
   "metadata": {},
   "source": [
    "### Tổng chi phí (Total Charge)"
   ]
  },
  {
   "cell_type": "code",
   "execution_count": 22,
   "id": "6496e32d",
   "metadata": {},
   "outputs": [
    {
     "data": {
      "image/png": "[encoded data removed]",
      "text/plain": [
       "<Figure size 1800x576 with 2 Axes>"
      ]
     },
     "metadata": {},
     "output_type": "display_data"
    }
   ],
   "source": [
    "fig, axs = plt.subplots(1,2,figsize=(25,8))\n",
    "\n",
    "sns.kdeplot(churn_yes_df[\"TotalCharges\"],color='red',label='Churn: Yes' , ax=axs[0])\n",
    "sns.kdeplot(churn_yes_df[\"tenure\"],color='red',label='Churn: Yes' , ax=axs[1])\n",
    "\n",
    "fig.suptitle('TotalCharge and Tenure (with churn= yes)', fontsize=18)\n",
    "plt.show()"
   ]
  },
  {
   "cell_type": "markdown",
   "id": "3abe2936",
   "metadata": {},
   "source": [
    "### Nhận xét :\n",
    "- Với tổng chi phí < 2000 đô thì lượng người thay đổi dịch vụ chiếm tỉ trọng cao\n",
    "- Tuy nhiên ta so sánh với biểu đồ thời lượng sử dụng thì thấy điểm tương đồng\n",
    "\n",
    "=> Với thời lượng sử dụng dịch vụ ngắn dẫn đến tổng chi phí ngắn"
   ]
  },
  {
   "cell_type": "markdown",
   "id": "f2eb3e75",
   "metadata": {},
   "source": [
    "### Dịch vụ liên quan Internet"
   ]
  },
  {
   "cell_type": "code",
   "execution_count": 23,
   "id": "2f0af0b3",
   "metadata": {},
   "outputs": [
    {
     "data": {
      "text/plain": [
       "value_ratios    {'Fiber optic': 69.395, 'DSL': 24.559, 'No': 6.046}\n",
       "Name: InternetService, dtype: object"
      ]
     },
     "execution_count": 23,
     "metadata": {},
     "output_type": "execute_result"
    }
   ],
   "source": [
    "churn_yes_df[\"InternetService\"].agg([ value_ratios])"
   ]
  },
  {
   "cell_type": "markdown",
   "id": "818facd2",
   "metadata": {},
   "source": [
    "Trong số những người thay đổi dịch vụ (churn = yes) có sử dụng dịch vụ internet chiếm đến 94% (tỉ lệ No chỉ 6%) nên ta xem các dịch vụ liên quan internet có gì bất thường không?"
   ]
  },
  {
   "cell_type": "markdown",
   "id": "9b979e67",
   "metadata": {},
   "source": [
    "### Gói cước Internet + điện thoại"
   ]
  },
  {
   "cell_type": "code",
   "execution_count": 24,
   "id": "bd9ed75d",
   "metadata": {},
   "outputs": [
    {
     "data": {
      "image/png": "[encoded data removed]",
      "text/plain": [
       "<Figure size 1440x720 with 1 Axes>"
      ]
     },
     "metadata": {},
     "output_type": "display_data"
    }
   ],
   "source": [
    "services=[ ('PhoneService','Yes'),('MultipleLines','No'),('MultipleLines','No phone service'),('MultipleLines','Yes'), ('InternetService','DSL'),('InternetService','Fiber optic'), ('InternetService','No')]\n",
    "services_churn_no_p=[len(churn_no_df[churn_no_df[k[0]] == k[1]]) for k in services] \n",
    "services_total_p=[len(df[df[k[0]] == k[1]]) for k in services]\n",
    "services_labels = (k[0]+'_'+k[1] for k in services)\n",
    "\n",
    "x = np.arange(len(services))  # the label locations\n",
    "width = 0.35  # the width of the bars\n",
    "\n",
    "fig, ax = plt.subplots()\n",
    "rects1 = ax.bar(x - width/2, services_churn_no_p, width, label='Non-churning users', color=['orange'])\n",
    "rects2 = ax.bar(x + width/2, services_total_p, width, label='Total users', color=['#3fced9'])\n",
    "\n",
    "# Add some text for labels, title and custom x-axis tick labels, etc.\n",
    "ax.set_ylabel('User count')\n",
    "ax.set_title('User count by product')\n",
    "ax.set_xticks(x)\n",
    "ax.set_xticklabels(services_labels)\n",
    "ax.legend()\n",
    "\n",
    "ax.bar_label(rects1, padding=3)\n",
    "ax.bar_label(rects2, padding=3)\n",
    "\n",
    "fig.set_figheight(10)\n",
    "fig.set_figwidth(20)\n",
    "\n",
    "plt.show()"
   ]
  },
  {
   "cell_type": "markdown",
   "id": "0d503515",
   "metadata": {},
   "source": [
    "### Nhận xét:\n",
    "- Internet cáp quang churn nhiều hơn các dịch vụ khác\n",
    "- Khách hàng không sử dụng internet churn rất ít"
   ]
  },
  {
   "cell_type": "markdown",
   "id": "5368433e",
   "metadata": {},
   "source": [
    "#### Tiền xử lý dữ liệu"
   ]
  },
  {
   "cell_type": "code",
   "execution_count": 25,
   "id": "27277b10",
   "metadata": {},
   "outputs": [
    {
     "data": {
      "text/html": [
       "<div>\n",
       "<style scoped>\n",
       "    .dataframe tbody tr th:only-of-type {\n",
       "        vertical-align: middle;\n",
       "    }\n",
       "\n",
       "    .dataframe tbody tr th {\n",
       "        vertical-align: top;\n",
       "    }\n",
       "\n",
       "    .dataframe thead th {\n",
       "        text-align: right;\n",
       "    }\n",
       "</style>\n",
       "<table border=\"1\" class=\"dataframe\">\n",
       "  <thead>\n",
       "    <tr style=\"text-align: right;\">\n",
       "      <th></th>\n",
       "      <th>Yes</th>\n",
       "      <th>No</th>\n",
       "    </tr>\n",
       "  </thead>\n",
       "  <tbody>\n",
       "    <tr>\n",
       "      <th>OnlineSecurity</th>\n",
       "      <td>16.800</td>\n",
       "      <td>83.200</td>\n",
       "    </tr>\n",
       "    <tr>\n",
       "      <th>OnlineBackup</th>\n",
       "      <td>29.784</td>\n",
       "      <td>70.216</td>\n",
       "    </tr>\n",
       "    <tr>\n",
       "      <th>DeviceProtection</th>\n",
       "      <td>31.036</td>\n",
       "      <td>68.964</td>\n",
       "    </tr>\n",
       "    <tr>\n",
       "      <th>TechSupport</th>\n",
       "      <td>17.654</td>\n",
       "      <td>82.346</td>\n",
       "    </tr>\n",
       "    <tr>\n",
       "      <th>StreamingTV</th>\n",
       "      <td>46.355</td>\n",
       "      <td>53.645</td>\n",
       "    </tr>\n",
       "    <tr>\n",
       "      <th>StreamingMovies</th>\n",
       "      <td>46.583</td>\n",
       "      <td>53.417</td>\n",
       "    </tr>\n",
       "  </tbody>\n",
       "</table>\n",
       "</div>"
      ],
      "text/plain": [
       "                     Yes      No\n",
       "OnlineSecurity    16.800  83.200\n",
       "OnlineBackup      29.784  70.216\n",
       "DeviceProtection  31.036  68.964\n",
       "TechSupport       17.654  82.346\n",
       "StreamingTV       46.355  53.645\n",
       "StreamingMovies   46.583  53.417"
      ]
     },
     "execution_count": 25,
     "metadata": {},
     "output_type": "execute_result"
    }
   ],
   "source": [
    "def Yes(c):\n",
    "    return (c.value_counts(normalize=True)['Yes']* 100).round(3)\n",
    "def No(c):\n",
    "     return (c.value_counts(normalize=True)['No']* 100).round(3)\n",
    "    \n",
    "Internet_churn_yes_df = churn_yes_df[churn_yes_df[\"InternetService\"] != \"No\"]\n",
    "cols = [\"OnlineSecurity\",\"OnlineBackup\",\"DeviceProtection\",\"TechSupport\",\"StreamingTV\",\"StreamingMovies\"]\n",
    "Internet_churn_yes_df = Internet_churn_yes_df[cols].agg([Yes,No])\n",
    "Internet_churn_yes_df = Internet_churn_yes_df.T\n",
    "Internet_churn_yes_df"
   ]
  },
  {
   "cell_type": "markdown",
   "id": "7750a9b7",
   "metadata": {},
   "source": [
    "#### Biểu đồ thể hiện các dịch vụ liên quan đến internet"
   ]
  },
  {
   "cell_type": "code",
   "execution_count": 26,
   "id": "d05c25bc",
   "metadata": {},
   "outputs": [
    {
     "data": {
      "image/png": "[encoded data removed]",
      "text/plain": [
       "<Figure size 720x576 with 1 Axes>"
      ]
     },
     "metadata": {},
     "output_type": "display_data"
    }
   ],
   "source": [
    "Internet_churn_yes_df.plot.bar(stacked=True, figsize=(10,8), ylabel=\"Percent\", color=['orange', '#3fced9']);"
   ]
  },
  {
   "cell_type": "markdown",
   "id": "2631ba78",
   "metadata": {},
   "source": [
    "### Nhận xét\n",
    "- Biểu đồ cho thấy số người sử dụng \"OnlineSecurity\" và \"TechSupport\" khá thấp nên người dùng đã bỏ lỡ 2 dịch vụ này dẫn đến không sử dụng dịch vụ Internet bên công ty nữa.\n",
    "- Biểu đồ cho thấy số người sử dụng \"StreamingTV\" và \"StreamingMovies\" cao nhất trong các dịch vụ (>40%) ta nên hỏi ý kiến khách hàng xem có gì không hài lòng dẫn đến việc rời bỏ dịch vụ Internet bên công ty "
   ]
  },
  {
   "cell_type": "markdown",
   "id": "aa54e6e6",
   "metadata": {},
   "source": [
    "### Kết luận :\n",
    "#### Các lý do khiến người dùng thay đổi dịch vụ:\n",
    "- Do thời gian gắn bó chưa lâu (<10 tháng) vì vậy cần lắng nghe và chăm sóc khách hàng mới\n",
    "- Do chi phí hàng tháng quá cao từ ( 70 -> 90) dẫn đến các khách hàng chọn rời dịch vụ\n",
    "- Do chất lượng dịch vụ Internet và các tính năng của dịch vụ chưa được tốt dẫn đến các khách hàng chọn rời dịch vụ"
   ]
  },
  {
   "cell_type": "markdown",
   "id": "e0c8219f",
   "metadata": {},
   "source": [
    "# Câu hỏi thứ 2: Làm sao để giữ chân khách hàng?\n",
    "### Insight 2: Customer profile và các góp ý giúp chăm sóc khách hàng tốt hơn\n",
    "#### Ý nghĩa: \n",
    "- Hiểu được tốt hơn nhu cầu của khách hàng để xác định các điểm mấu chốt cần được giải quyết\n",
    "- Giúp cải thiện chất lượng dịch vụ\n",
    "- Giúp cung cấp dịch vụ phù hợp hơn với nhu cầu khách hàng\n",
    "\n",
    "&rarr; Giảm tỉ lệ churn/giữ chân khách hàng tốt hơn."
   ]
  },
  {
   "cell_type": "markdown",
   "id": "85b25e96",
   "metadata": {},
   "source": [
    "#### Lọc ra các khách hàng cao tuổi"
   ]
  },
  {
   "cell_type": "code",
   "execution_count": 27,
   "id": "7eb78f36",
   "metadata": {},
   "outputs": [
    {
     "data": {
      "text/html": [
       "<div>\n",
       "<style scoped>\n",
       "    .dataframe tbody tr th:only-of-type {\n",
       "        vertical-align: middle;\n",
       "    }\n",
       "\n",
       "    .dataframe tbody tr th {\n",
       "        vertical-align: top;\n",
       "    }\n",
       "\n",
       "    .dataframe thead th {\n",
       "        text-align: right;\n",
       "    }\n",
       "</style>\n",
       "<table border=\"1\" class=\"dataframe\">\n",
       "  <thead>\n",
       "    <tr style=\"text-align: right;\">\n",
       "      <th></th>\n",
       "      <th>customerID</th>\n",
       "      <th>gender</th>\n",
       "      <th>Partner</th>\n",
       "      <th>Dependents</th>\n",
       "      <th>PhoneService</th>\n",
       "      <th>MultipleLines</th>\n",
       "      <th>InternetService</th>\n",
       "      <th>OnlineSecurity</th>\n",
       "      <th>OnlineBackup</th>\n",
       "      <th>DeviceProtection</th>\n",
       "      <th>TechSupport</th>\n",
       "      <th>StreamingTV</th>\n",
       "      <th>StreamingMovies</th>\n",
       "      <th>Contract</th>\n",
       "      <th>PaperlessBilling</th>\n",
       "      <th>PaymentMethod</th>\n",
       "      <th>Churn</th>\n",
       "    </tr>\n",
       "  </thead>\n",
       "  <tbody>\n",
       "    <tr>\n",
       "      <th>num_values</th>\n",
       "      <td>1142</td>\n",
       "      <td>2</td>\n",
       "      <td>2</td>\n",
       "      <td>2</td>\n",
       "      <td>2</td>\n",
       "      <td>3</td>\n",
       "      <td>3</td>\n",
       "      <td>3</td>\n",
       "      <td>3</td>\n",
       "      <td>3</td>\n",
       "      <td>3</td>\n",
       "      <td>3</td>\n",
       "      <td>3</td>\n",
       "      <td>3</td>\n",
       "      <td>2</td>\n",
       "      <td>4</td>\n",
       "      <td>2</td>\n",
       "    </tr>\n",
       "    <tr>\n",
       "      <th>value_ratios</th>\n",
       "      <td>{'6185-TASNN': 0.088, '5419-CONWX': 0.088, '6661-HBGWL': 0.088, '0224-RLWWD': 0.088, '0786-IVLAW': 0.088}</td>\n",
       "      <td>{'Male': 50.263, 'Female': 49.737}</td>\n",
       "      <td>{'Yes': 50.175, 'No': 49.825}</td>\n",
       "      <td>{'No': 92.032, 'Yes': 7.968}</td>\n",
       "      <td>{'Yes': 90.893, 'No': 9.107}</td>\n",
       "      <td>{'Yes': 58.231, 'No': 32.662, 'No phone service': 9.107}</td>\n",
       "      <td>{'Fiber optic': 72.767, 'DSL': 22.68, 'No': 4.553}</td>\n",
       "      <td>{'No': 70.753, 'Yes': 24.694, 'No internet service': 4.553}</td>\n",
       "      <td>{'No': 53.765, 'Yes': 41.681, 'No internet service': 4.553}</td>\n",
       "      <td>{'No': 54.641, 'Yes': 40.806, 'No internet service': 4.553}</td>\n",
       "      <td>{'No': 72.68, 'Yes': 22.767, 'No internet service': 4.553}</td>\n",
       "      <td>{'Yes': 50.088, 'No': 45.359, 'No internet service': 4.553}</td>\n",
       "      <td>{'Yes': 52.102, 'No': 43.345, 'No internet service': 4.553}</td>\n",
       "      <td>{'Month-to-month': 70.665, 'One year': 16.637, 'Two year': 12.697}</td>\n",
       "      <td>{'Yes': 76.708, 'No': 23.292}</td>\n",
       "      <td>{'Electronic check': 52.014, 'Bank transfer (automatic)': 20.403, 'Credit card (automatic)': 19.352, 'Mailed check': 8.231}</td>\n",
       "      <td>{'No': 58.319, 'Yes': 41.681}</td>\n",
       "    </tr>\n",
       "  </tbody>\n",
       "</table>\n",
       "</div>"
      ],
      "text/plain": [
       "                                                                                                             customerID  \\\n",
       "num_values                                                                                                         1142   \n",
       "value_ratios  {'6185-TASNN': 0.088, '5419-CONWX': 0.088, '6661-HBGWL': 0.088, '0224-RLWWD': 0.088, '0786-IVLAW': 0.088}   \n",
       "\n",
       "                                          gender  \\\n",
       "num_values                                     2   \n",
       "value_ratios  {'Male': 50.263, 'Female': 49.737}   \n",
       "\n",
       "                                    Partner                    Dependents  \\\n",
       "num_values                                2                             2   \n",
       "value_ratios  {'Yes': 50.175, 'No': 49.825}  {'No': 92.032, 'Yes': 7.968}   \n",
       "\n",
       "                              PhoneService  \\\n",
       "num_values                               2   \n",
       "value_ratios  {'Yes': 90.893, 'No': 9.107}   \n",
       "\n",
       "                                                         MultipleLines  \\\n",
       "num_values                                                           3   \n",
       "value_ratios  {'Yes': 58.231, 'No': 32.662, 'No phone service': 9.107}   \n",
       "\n",
       "                                                 InternetService  \\\n",
       "num_values                                                     3   \n",
       "value_ratios  {'Fiber optic': 72.767, 'DSL': 22.68, 'No': 4.553}   \n",
       "\n",
       "                                                           OnlineSecurity  \\\n",
       "num_values                                                              3   \n",
       "value_ratios  {'No': 70.753, 'Yes': 24.694, 'No internet service': 4.553}   \n",
       "\n",
       "                                                             OnlineBackup  \\\n",
       "num_values                                                              3   \n",
       "value_ratios  {'No': 53.765, 'Yes': 41.681, 'No internet service': 4.553}   \n",
       "\n",
       "                                                         DeviceProtection  \\\n",
       "num_values                                                              3   \n",
       "value_ratios  {'No': 54.641, 'Yes': 40.806, 'No internet service': 4.553}   \n",
       "\n",
       "                                                             TechSupport  \\\n",
       "num_values                                                             3   \n",
       "value_ratios  {'No': 72.68, 'Yes': 22.767, 'No internet service': 4.553}   \n",
       "\n",
       "                                                              StreamingTV  \\\n",
       "num_values                                                              3   \n",
       "value_ratios  {'Yes': 50.088, 'No': 45.359, 'No internet service': 4.553}   \n",
       "\n",
       "                                                          StreamingMovies  \\\n",
       "num_values                                                              3   \n",
       "value_ratios  {'Yes': 52.102, 'No': 43.345, 'No internet service': 4.553}   \n",
       "\n",
       "                                                                        Contract  \\\n",
       "num_values                                                                     3   \n",
       "value_ratios  {'Month-to-month': 70.665, 'One year': 16.637, 'Two year': 12.697}   \n",
       "\n",
       "                           PaperlessBilling  \\\n",
       "num_values                                2   \n",
       "value_ratios  {'Yes': 76.708, 'No': 23.292}   \n",
       "\n",
       "                                                                                                                            PaymentMethod  \\\n",
       "num_values                                                                                                                              4   \n",
       "value_ratios  {'Electronic check': 52.014, 'Bank transfer (automatic)': 20.403, 'Credit card (automatic)': 19.352, 'Mailed check': 8.231}   \n",
       "\n",
       "                                      Churn  \n",
       "num_values                                2  \n",
       "value_ratios  {'No': 58.319, 'Yes': 41.681}  "
      ]
     },
     "execution_count": 27,
     "metadata": {},
     "output_type": "execute_result"
    }
   ],
   "source": [
    "senior_df = df[df['SeniorCitizen'] == 1]\n",
    "object_cols = senior_df.select_dtypes(exclude = ['number']).columns\n",
    "def num_values(df):\n",
    "    return df.nunique()\n",
    "def value_ratios(c):\n",
    "    return dict((c.value_counts(normalize=True) * 100)[0:5].round(3))\n",
    "senior_df[object_cols].agg([num_values, value_ratios])"
   ]
  },
  {
   "cell_type": "markdown",
   "id": "14cbe0fa",
   "metadata": {},
   "source": [
    "#### Profile khách hàng cao tuổi:\n",
    "- Có nhu cầu sử dụng internet cao (95% có internet)\n",
    "- Thường đăng kí hợp đồng từng tháng (70%)\n",
    "- Sử dụng hóa đơn điện tử nhiều (75% paperless billing)"
   ]
  },
  {
   "cell_type": "markdown",
   "id": "a2b6e460",
   "metadata": {},
   "source": [
    "#### Lọc ra các khách hàng cao tuổi đã churn"
   ]
  },
  {
   "cell_type": "code",
   "execution_count": 28,
   "id": "f20c03cf",
   "metadata": {},
   "outputs": [
    {
     "data": {
      "text/html": [
       "<div>\n",
       "<style scoped>\n",
       "    .dataframe tbody tr th:only-of-type {\n",
       "        vertical-align: middle;\n",
       "    }\n",
       "\n",
       "    .dataframe tbody tr th {\n",
       "        vertical-align: top;\n",
       "    }\n",
       "\n",
       "    .dataframe thead th {\n",
       "        text-align: right;\n",
       "    }\n",
       "</style>\n",
       "<table border=\"1\" class=\"dataframe\">\n",
       "  <thead>\n",
       "    <tr style=\"text-align: right;\">\n",
       "      <th></th>\n",
       "      <th>customerID</th>\n",
       "      <th>gender</th>\n",
       "      <th>Partner</th>\n",
       "      <th>Dependents</th>\n",
       "      <th>PhoneService</th>\n",
       "      <th>MultipleLines</th>\n",
       "      <th>InternetService</th>\n",
       "      <th>OnlineSecurity</th>\n",
       "      <th>OnlineBackup</th>\n",
       "      <th>DeviceProtection</th>\n",
       "      <th>TechSupport</th>\n",
       "      <th>StreamingTV</th>\n",
       "      <th>StreamingMovies</th>\n",
       "      <th>Contract</th>\n",
       "      <th>PaperlessBilling</th>\n",
       "      <th>PaymentMethod</th>\n",
       "      <th>Churn</th>\n",
       "    </tr>\n",
       "  </thead>\n",
       "  <tbody>\n",
       "    <tr>\n",
       "      <th>num_values</th>\n",
       "      <td>476</td>\n",
       "      <td>2</td>\n",
       "      <td>2</td>\n",
       "      <td>2</td>\n",
       "      <td>2</td>\n",
       "      <td>3</td>\n",
       "      <td>3</td>\n",
       "      <td>3</td>\n",
       "      <td>3</td>\n",
       "      <td>3</td>\n",
       "      <td>3</td>\n",
       "      <td>3</td>\n",
       "      <td>3</td>\n",
       "      <td>3</td>\n",
       "      <td>2</td>\n",
       "      <td>4</td>\n",
       "      <td>1</td>\n",
       "    </tr>\n",
       "    <tr>\n",
       "      <th>value_ratios</th>\n",
       "      <td>{'9174-FKWZE': 0.21, '5567-WSELE': 0.21, '1862-SKORY': 0.21, '8644-XLFBW': 0.21, '8118-LSUEL': 0.21}</td>\n",
       "      <td>{'Female': 50.42, 'Male': 49.58}</td>\n",
       "      <td>{'No': 58.403, 'Yes': 41.597}</td>\n",
       "      <td>{'No': 95.378, 'Yes': 4.622}</td>\n",
       "      <td>{'Yes': 90.756, 'No': 9.244}</td>\n",
       "      <td>{'Yes': 58.824, 'No': 31.933, 'No phone service': 9.244}</td>\n",
       "      <td>{'Fiber optic': 82.563, 'DSL': 16.387, 'No': 1.05}</td>\n",
       "      <td>{'No': 85.504, 'Yes': 13.445, 'No internet service': 1.05}</td>\n",
       "      <td>{'No': 68.067, 'Yes': 30.882, 'No internet service': 1.05}</td>\n",
       "      <td>{'No': 67.227, 'Yes': 31.723, 'No internet service': 1.05}</td>\n",
       "      <td>{'No': 88.235, 'Yes': 10.714, 'No internet service': 1.05}</td>\n",
       "      <td>{'No': 50.84, 'Yes': 48.109, 'No internet service': 1.05}</td>\n",
       "      <td>{'Yes': 51.261, 'No': 47.689, 'No internet service': 1.05}</td>\n",
       "      <td>{'Month-to-month': 92.647, 'One year': 6.092, 'Two year': 1.261}</td>\n",
       "      <td>{'Yes': 83.613, 'No': 16.387}</td>\n",
       "      <td>{'Electronic check': 66.597, 'Credit card (automatic)': 13.025, 'Bank transfer (automatic)': 11.134, 'Mailed check': 9.244}</td>\n",
       "      <td>{'Yes': 100.0}</td>\n",
       "    </tr>\n",
       "  </tbody>\n",
       "</table>\n",
       "</div>"
      ],
      "text/plain": [
       "                                                                                                        customerID  \\\n",
       "num_values                                                                                                     476   \n",
       "value_ratios  {'9174-FKWZE': 0.21, '5567-WSELE': 0.21, '1862-SKORY': 0.21, '8644-XLFBW': 0.21, '8118-LSUEL': 0.21}   \n",
       "\n",
       "                                        gender                        Partner  \\\n",
       "num_values                                   2                              2   \n",
       "value_ratios  {'Female': 50.42, 'Male': 49.58}  {'No': 58.403, 'Yes': 41.597}   \n",
       "\n",
       "                                Dependents                  PhoneService  \\\n",
       "num_values                               2                             2   \n",
       "value_ratios  {'No': 95.378, 'Yes': 4.622}  {'Yes': 90.756, 'No': 9.244}   \n",
       "\n",
       "                                                         MultipleLines  \\\n",
       "num_values                                                           3   \n",
       "value_ratios  {'Yes': 58.824, 'No': 31.933, 'No phone service': 9.244}   \n",
       "\n",
       "                                                 InternetService  \\\n",
       "num_values                                                     3   \n",
       "value_ratios  {'Fiber optic': 82.563, 'DSL': 16.387, 'No': 1.05}   \n",
       "\n",
       "                                                          OnlineSecurity  \\\n",
       "num_values                                                             3   \n",
       "value_ratios  {'No': 85.504, 'Yes': 13.445, 'No internet service': 1.05}   \n",
       "\n",
       "                                                            OnlineBackup  \\\n",
       "num_values                                                             3   \n",
       "value_ratios  {'No': 68.067, 'Yes': 30.882, 'No internet service': 1.05}   \n",
       "\n",
       "                                                        DeviceProtection  \\\n",
       "num_values                                                             3   \n",
       "value_ratios  {'No': 67.227, 'Yes': 31.723, 'No internet service': 1.05}   \n",
       "\n",
       "                                                             TechSupport  \\\n",
       "num_values                                                             3   \n",
       "value_ratios  {'No': 88.235, 'Yes': 10.714, 'No internet service': 1.05}   \n",
       "\n",
       "                                                            StreamingTV  \\\n",
       "num_values                                                            3   \n",
       "value_ratios  {'No': 50.84, 'Yes': 48.109, 'No internet service': 1.05}   \n",
       "\n",
       "                                                         StreamingMovies  \\\n",
       "num_values                                                             3   \n",
       "value_ratios  {'Yes': 51.261, 'No': 47.689, 'No internet service': 1.05}   \n",
       "\n",
       "                                                                      Contract  \\\n",
       "num_values                                                                   3   \n",
       "value_ratios  {'Month-to-month': 92.647, 'One year': 6.092, 'Two year': 1.261}   \n",
       "\n",
       "                           PaperlessBilling  \\\n",
       "num_values                                2   \n",
       "value_ratios  {'Yes': 83.613, 'No': 16.387}   \n",
       "\n",
       "                                                                                                                            PaymentMethod  \\\n",
       "num_values                                                                                                                              4   \n",
       "value_ratios  {'Electronic check': 66.597, 'Credit card (automatic)': 13.025, 'Bank transfer (automatic)': 11.134, 'Mailed check': 9.244}   \n",
       "\n",
       "                       Churn  \n",
       "num_values                 1  \n",
       "value_ratios  {'Yes': 100.0}  "
      ]
     },
     "execution_count": 28,
     "metadata": {},
     "output_type": "execute_result"
    }
   ],
   "source": [
    "senior_churn_df = senior_df[senior_df[\"Churn\"] == \"Yes\"]\n",
    "senior_churn_df[object_cols].agg([num_values, value_ratios])"
   ]
  },
  {
   "cell_type": "markdown",
   "id": "41c285c3",
   "metadata": {},
   "source": [
    "#### Phân tích churn của khách hàng cao tuổi:\n",
    "- Phần lớn đăng kí hợp đồng tháng (92%)\n",
    "- Sử dụng internet cáp quang nhiều (82%)\n",
    "- Ít sử dụng thanh toán tự động hơn\n",
    "\n",
    "#### Gợi ý về chăm sóc khách hàng:\n",
    "- Đưa ra ưu đãi về giá cho hợp đồng dài hạn -> khuyến khích đăng kí dài hạn, giảm gánh nặng chi phí (phân khúc người già churn nhiều do tiết kiệm)\n",
    "- Đưa ra các gói dịch vụ thiết yếu ưu đãi cho người lớn tuổi (vd Internet + Điện thoại + Tech support) để thu hút khách hàng\n",
    "- Khuyến mãi hoặc giảm giá các dịch vụ có ích cho người lớn tuổi như Tech support và Online security để tăng giá trị cho khách hàng\n",
    "- Cải thiện chất lượng dịch vụ internet"
   ]
  },
  {
   "cell_type": "markdown",
   "id": "48648f94",
   "metadata": {},
   "source": [
    "#### Lọc ra profile khách hàng trẻ (non-senior)"
   ]
  },
  {
   "cell_type": "code",
   "execution_count": 29,
   "id": "a4185a6a",
   "metadata": {},
   "outputs": [
    {
     "data": {
      "text/html": [
       "<div>\n",
       "<style scoped>\n",
       "    .dataframe tbody tr th:only-of-type {\n",
       "        vertical-align: middle;\n",
       "    }\n",
       "\n",
       "    .dataframe tbody tr th {\n",
       "        vertical-align: top;\n",
       "    }\n",
       "\n",
       "    .dataframe thead th {\n",
       "        text-align: right;\n",
       "    }\n",
       "</style>\n",
       "<table border=\"1\" class=\"dataframe\">\n",
       "  <thead>\n",
       "    <tr style=\"text-align: right;\">\n",
       "      <th></th>\n",
       "      <th>customerID</th>\n",
       "      <th>gender</th>\n",
       "      <th>Partner</th>\n",
       "      <th>Dependents</th>\n",
       "      <th>PhoneService</th>\n",
       "      <th>MultipleLines</th>\n",
       "      <th>InternetService</th>\n",
       "      <th>OnlineSecurity</th>\n",
       "      <th>OnlineBackup</th>\n",
       "      <th>DeviceProtection</th>\n",
       "      <th>TechSupport</th>\n",
       "      <th>StreamingTV</th>\n",
       "      <th>StreamingMovies</th>\n",
       "      <th>Contract</th>\n",
       "      <th>PaperlessBilling</th>\n",
       "      <th>PaymentMethod</th>\n",
       "      <th>Churn</th>\n",
       "    </tr>\n",
       "  </thead>\n",
       "  <tbody>\n",
       "    <tr>\n",
       "      <th>num_values</th>\n",
       "      <td>5890</td>\n",
       "      <td>2</td>\n",
       "      <td>2</td>\n",
       "      <td>2</td>\n",
       "      <td>2</td>\n",
       "      <td>3</td>\n",
       "      <td>3</td>\n",
       "      <td>3</td>\n",
       "      <td>3</td>\n",
       "      <td>3</td>\n",
       "      <td>3</td>\n",
       "      <td>3</td>\n",
       "      <td>3</td>\n",
       "      <td>3</td>\n",
       "      <td>2</td>\n",
       "      <td>4</td>\n",
       "      <td>2</td>\n",
       "    </tr>\n",
       "    <tr>\n",
       "      <th>value_ratios</th>\n",
       "      <td>{'6481-OGDOO': 0.017, '0310-SUCIN': 0.017, '0668-OGMHD': 0.017, '6723-CEGQI': 0.017, '6034-ZRYCV': 0.017}</td>\n",
       "      <td>{'Male': 50.509, 'Female': 49.491}</td>\n",
       "      <td>{'No': 52.122, 'Yes': 47.878}</td>\n",
       "      <td>{'No': 65.908, 'Yes': 34.092}</td>\n",
       "      <td>{'Yes': 90.221, 'No': 9.779}</td>\n",
       "      <td>{'No': 51.138, 'Yes': 39.083, 'No phone service': 9.779}</td>\n",
       "      <td>{'Fiber optic': 38.455, 'DSL': 36.621, 'No': 24.924}</td>\n",
       "      <td>{'No': 45.654, 'Yes': 29.423, 'No internet service': 24.924}</td>\n",
       "      <td>{'No': 41.986, 'Yes': 33.09, 'No internet service': 24.924}</td>\n",
       "      <td>{'No': 41.935, 'Yes': 33.141, 'No internet service': 24.924}</td>\n",
       "      <td>{'No': 44.856, 'Yes': 30.221, 'No internet service': 24.924}</td>\n",
       "      <td>{'No': 38.896, 'Yes': 36.18, 'No internet service': 24.924}</td>\n",
       "      <td>{'No': 38.812, 'Yes': 36.265, 'No internet service': 24.924}</td>\n",
       "      <td>{'Month-to-month': 52.088, 'Two year': 26.146, 'One year': 21.766}</td>\n",
       "      <td>{'Yes': 55.891, 'No': 44.109}</td>\n",
       "      <td>{'Electronic check': 30.068, 'Mailed check': 25.637, 'Bank transfer (automatic)': 22.224, 'Credit card (automatic)': 22.071}</td>\n",
       "      <td>{'No': 76.35, 'Yes': 23.65}</td>\n",
       "    </tr>\n",
       "  </tbody>\n",
       "</table>\n",
       "</div>"
      ],
      "text/plain": [
       "                                                                                                             customerID  \\\n",
       "num_values                                                                                                         5890   \n",
       "value_ratios  {'6481-OGDOO': 0.017, '0310-SUCIN': 0.017, '0668-OGMHD': 0.017, '6723-CEGQI': 0.017, '6034-ZRYCV': 0.017}   \n",
       "\n",
       "                                          gender  \\\n",
       "num_values                                     2   \n",
       "value_ratios  {'Male': 50.509, 'Female': 49.491}   \n",
       "\n",
       "                                    Partner                     Dependents  \\\n",
       "num_values                                2                              2   \n",
       "value_ratios  {'No': 52.122, 'Yes': 47.878}  {'No': 65.908, 'Yes': 34.092}   \n",
       "\n",
       "                              PhoneService  \\\n",
       "num_values                               2   \n",
       "value_ratios  {'Yes': 90.221, 'No': 9.779}   \n",
       "\n",
       "                                                         MultipleLines  \\\n",
       "num_values                                                           3   \n",
       "value_ratios  {'No': 51.138, 'Yes': 39.083, 'No phone service': 9.779}   \n",
       "\n",
       "                                                   InternetService  \\\n",
       "num_values                                                       3   \n",
       "value_ratios  {'Fiber optic': 38.455, 'DSL': 36.621, 'No': 24.924}   \n",
       "\n",
       "                                                            OnlineSecurity  \\\n",
       "num_values                                                               3   \n",
       "value_ratios  {'No': 45.654, 'Yes': 29.423, 'No internet service': 24.924}   \n",
       "\n",
       "                                                             OnlineBackup  \\\n",
       "num_values                                                              3   \n",
       "value_ratios  {'No': 41.986, 'Yes': 33.09, 'No internet service': 24.924}   \n",
       "\n",
       "                                                          DeviceProtection  \\\n",
       "num_values                                                               3   \n",
       "value_ratios  {'No': 41.935, 'Yes': 33.141, 'No internet service': 24.924}   \n",
       "\n",
       "                                                               TechSupport  \\\n",
       "num_values                                                               3   \n",
       "value_ratios  {'No': 44.856, 'Yes': 30.221, 'No internet service': 24.924}   \n",
       "\n",
       "                                                              StreamingTV  \\\n",
       "num_values                                                              3   \n",
       "value_ratios  {'No': 38.896, 'Yes': 36.18, 'No internet service': 24.924}   \n",
       "\n",
       "                                                           StreamingMovies  \\\n",
       "num_values                                                               3   \n",
       "value_ratios  {'No': 38.812, 'Yes': 36.265, 'No internet service': 24.924}   \n",
       "\n",
       "                                                                        Contract  \\\n",
       "num_values                                                                     3   \n",
       "value_ratios  {'Month-to-month': 52.088, 'Two year': 26.146, 'One year': 21.766}   \n",
       "\n",
       "                           PaperlessBilling  \\\n",
       "num_values                                2   \n",
       "value_ratios  {'Yes': 55.891, 'No': 44.109}   \n",
       "\n",
       "                                                                                                                             PaymentMethod  \\\n",
       "num_values                                                                                                                               4   \n",
       "value_ratios  {'Electronic check': 30.068, 'Mailed check': 25.637, 'Bank transfer (automatic)': 22.224, 'Credit card (automatic)': 22.071}   \n",
       "\n",
       "                                    Churn  \n",
       "num_values                              2  \n",
       "value_ratios  {'No': 76.35, 'Yes': 23.65}  "
      ]
     },
     "execution_count": 29,
     "metadata": {},
     "output_type": "execute_result"
    }
   ],
   "source": [
    "non_senior_df = df[df['SeniorCitizen'] == 0]\n",
    "object_cols = non_senior_df.select_dtypes(exclude = ['number']).columns\n",
    "def num_values(df):\n",
    "    return df.nunique()\n",
    "def value_ratios(c):\n",
    "    return dict((c.value_counts(normalize=True) * 100)[0:5].round(3))\n",
    "non_senior_df[object_cols].agg([num_values, value_ratios])"
   ]
  },
  {
   "cell_type": "markdown",
   "id": "5099ca7c",
   "metadata": {},
   "source": [
    "#### Profile khách hàng trẻ tuổi:\n",
    "- Một bộ phận không đăng kí internet (25% sử dụng 4G hoàn toàn?)\n",
    "- Sử dụng các dịch vụ kèm theo nhiều hơn (đặc biệt là streaming)\n",
    "- Đăng kí hợp đồng dài hạn nhiều hơn"
   ]
  },
  {
   "cell_type": "markdown",
   "id": "b0a04615",
   "metadata": {},
   "source": [
    "#### Lọc ra các khách hàng trẻ tuổi đã churn"
   ]
  },
  {
   "cell_type": "code",
   "execution_count": 30,
   "id": "775ba933",
   "metadata": {
    "tags": [
     "hide-input"
    ]
   },
   "outputs": [
    {
     "data": {
      "text/html": [
       "<div>\n",
       "<style scoped>\n",
       "    .dataframe tbody tr th:only-of-type {\n",
       "        vertical-align: middle;\n",
       "    }\n",
       "\n",
       "    .dataframe tbody tr th {\n",
       "        vertical-align: top;\n",
       "    }\n",
       "\n",
       "    .dataframe thead th {\n",
       "        text-align: right;\n",
       "    }\n",
       "</style>\n",
       "<table border=\"1\" class=\"dataframe\">\n",
       "  <thead>\n",
       "    <tr style=\"text-align: right;\">\n",
       "      <th></th>\n",
       "      <th>customerID</th>\n",
       "      <th>gender</th>\n",
       "      <th>Partner</th>\n",
       "      <th>Dependents</th>\n",
       "      <th>PhoneService</th>\n",
       "      <th>MultipleLines</th>\n",
       "      <th>InternetService</th>\n",
       "      <th>OnlineSecurity</th>\n",
       "      <th>OnlineBackup</th>\n",
       "      <th>DeviceProtection</th>\n",
       "      <th>TechSupport</th>\n",
       "      <th>StreamingTV</th>\n",
       "      <th>StreamingMovies</th>\n",
       "      <th>Contract</th>\n",
       "      <th>PaperlessBilling</th>\n",
       "      <th>PaymentMethod</th>\n",
       "      <th>Churn</th>\n",
       "    </tr>\n",
       "  </thead>\n",
       "  <tbody>\n",
       "    <tr>\n",
       "      <th>num_values</th>\n",
       "      <td>1393</td>\n",
       "      <td>2</td>\n",
       "      <td>2</td>\n",
       "      <td>2</td>\n",
       "      <td>2</td>\n",
       "      <td>3</td>\n",
       "      <td>3</td>\n",
       "      <td>3</td>\n",
       "      <td>3</td>\n",
       "      <td>3</td>\n",
       "      <td>3</td>\n",
       "      <td>3</td>\n",
       "      <td>3</td>\n",
       "      <td>3</td>\n",
       "      <td>2</td>\n",
       "      <td>4</td>\n",
       "      <td>1</td>\n",
       "    </tr>\n",
       "    <tr>\n",
       "      <th>value_ratios</th>\n",
       "      <td>{'6481-OGDOO': 0.072, '2207-OBZNX': 0.072, '5318-IXUZF': 0.072, '5299-SJCZT': 0.072, '4873-ILOLJ': 0.072}</td>\n",
       "      <td>{'Female': 50.179, 'Male': 49.821}</td>\n",
       "      <td>{'No': 66.188, 'Yes': 33.812}</td>\n",
       "      <td>{'No': 78.177, 'Yes': 21.823}</td>\n",
       "      <td>{'Yes': 90.955, 'No': 9.045}</td>\n",
       "      <td>{'No': 50.036, 'Yes': 40.919, 'No phone service': 9.045}</td>\n",
       "      <td>{'Fiber optic': 64.896, 'DSL': 27.351, 'No': 7.753}</td>\n",
       "      <td>{'No': 75.664, 'Yes': 16.583, 'No internet service': 7.753}</td>\n",
       "      <td>{'No': 65.255, 'Yes': 26.992, 'No internet service': 7.753}</td>\n",
       "      <td>{'No': 63.963, 'Yes': 28.284, 'No internet service': 7.753}</td>\n",
       "      <td>{'No': 73.654, 'Yes': 18.593, 'No internet service': 7.753}</td>\n",
       "      <td>{'No': 50.251, 'Yes': 41.996, 'No internet service': 7.753}</td>\n",
       "      <td>{'No': 51.041, 'Yes': 41.206, 'No internet service': 7.753}</td>\n",
       "      <td>{'Month-to-month': 87.15, 'One year': 9.835, 'Two year': 3.015}</td>\n",
       "      <td>{'Yes': 71.931, 'No': 28.069}</td>\n",
       "      <td>{'Electronic check': 54.128, 'Mailed check': 18.952, 'Bank transfer (automatic)': 14.716, 'Credit card (automatic)': 12.204}</td>\n",
       "      <td>{'Yes': 100.0}</td>\n",
       "    </tr>\n",
       "  </tbody>\n",
       "</table>\n",
       "</div>"
      ],
      "text/plain": [
       "                                                                                                             customerID  \\\n",
       "num_values                                                                                                         1393   \n",
       "value_ratios  {'6481-OGDOO': 0.072, '2207-OBZNX': 0.072, '5318-IXUZF': 0.072, '5299-SJCZT': 0.072, '4873-ILOLJ': 0.072}   \n",
       "\n",
       "                                          gender  \\\n",
       "num_values                                     2   \n",
       "value_ratios  {'Female': 50.179, 'Male': 49.821}   \n",
       "\n",
       "                                    Partner                     Dependents  \\\n",
       "num_values                                2                              2   \n",
       "value_ratios  {'No': 66.188, 'Yes': 33.812}  {'No': 78.177, 'Yes': 21.823}   \n",
       "\n",
       "                              PhoneService  \\\n",
       "num_values                               2   \n",
       "value_ratios  {'Yes': 90.955, 'No': 9.045}   \n",
       "\n",
       "                                                         MultipleLines  \\\n",
       "num_values                                                           3   \n",
       "value_ratios  {'No': 50.036, 'Yes': 40.919, 'No phone service': 9.045}   \n",
       "\n",
       "                                                  InternetService  \\\n",
       "num_values                                                      3   \n",
       "value_ratios  {'Fiber optic': 64.896, 'DSL': 27.351, 'No': 7.753}   \n",
       "\n",
       "                                                           OnlineSecurity  \\\n",
       "num_values                                                              3   \n",
       "value_ratios  {'No': 75.664, 'Yes': 16.583, 'No internet service': 7.753}   \n",
       "\n",
       "                                                             OnlineBackup  \\\n",
       "num_values                                                              3   \n",
       "value_ratios  {'No': 65.255, 'Yes': 26.992, 'No internet service': 7.753}   \n",
       "\n",
       "                                                         DeviceProtection  \\\n",
       "num_values                                                              3   \n",
       "value_ratios  {'No': 63.963, 'Yes': 28.284, 'No internet service': 7.753}   \n",
       "\n",
       "                                                              TechSupport  \\\n",
       "num_values                                                              3   \n",
       "value_ratios  {'No': 73.654, 'Yes': 18.593, 'No internet service': 7.753}   \n",
       "\n",
       "                                                              StreamingTV  \\\n",
       "num_values                                                              3   \n",
       "value_ratios  {'No': 50.251, 'Yes': 41.996, 'No internet service': 7.753}   \n",
       "\n",
       "                                                          StreamingMovies  \\\n",
       "num_values                                                              3   \n",
       "value_ratios  {'No': 51.041, 'Yes': 41.206, 'No internet service': 7.753}   \n",
       "\n",
       "                                                                     Contract  \\\n",
       "num_values                                                                  3   \n",
       "value_ratios  {'Month-to-month': 87.15, 'One year': 9.835, 'Two year': 3.015}   \n",
       "\n",
       "                           PaperlessBilling  \\\n",
       "num_values                                2   \n",
       "value_ratios  {'Yes': 71.931, 'No': 28.069}   \n",
       "\n",
       "                                                                                                                             PaymentMethod  \\\n",
       "num_values                                                                                                                               4   \n",
       "value_ratios  {'Electronic check': 54.128, 'Mailed check': 18.952, 'Bank transfer (automatic)': 14.716, 'Credit card (automatic)': 12.204}   \n",
       "\n",
       "                       Churn  \n",
       "num_values                 1  \n",
       "value_ratios  {'Yes': 100.0}  "
      ]
     },
     "execution_count": 30,
     "metadata": {},
     "output_type": "execute_result"
    }
   ],
   "source": [
    "non_senior_churn_df = non_senior_df[non_senior_df[\"Churn\"] == \"Yes\"]\n",
    "non_senior_churn_df[object_cols].agg([num_values, value_ratios])"
   ]
  },
  {
   "cell_type": "markdown",
   "id": "123cb01c",
   "metadata": {},
   "source": [
    "#### Phân tích churn của khách hàng trẻ tuổi:\n",
    "- Phần lớn đăng kí hợp đồng tháng\n",
    "- Sử dụng internet cáp quang nhiều\n",
    "- Ít sử dụng các dịch vụ đi kèm như tech support\n",
    "\n",
    "#### Gợi ý về chăm sóc khách hàng:\n",
    "- Đưa ra ưu đãi về giá cho hợp đồng dài hạn -> khuyến khích đăng kí dài hạn\n",
    "- Ưu đãi lắp đặt internet để tăng phủ sóng internet cho khách hàng\n",
    "- Đưa ra các gói dịch vụ ưu đãi cho người trẻ (VD Internet + Streaming TV + Streaming Movies) để thu hút khách hàng\n",
    "- Cải thiện chất lượng dịch vụ internet"
   ]
  },
  {
   "cell_type": "markdown",
   "id": "246ea1f0",
   "metadata": {},
   "source": [
    "### Kết luận :\n",
    "#### Gợi ý về chăm sóc khách hàng nói chung:\n",
    "- Đưa ra ưu đãi về giá cho hợp đồng dài hạn -> khuyến khích đăng kí dài hạn\n",
    "- Cải thiện chất lượng dịch vụ streaming nói riêng và internet nói chung\n",
    "- Thường xuyên lắng nghe phản hồi cũng như hỗ trợ khách hàng về các dịch vụ\n",
    "\n",
    "#### Gợi ý về chăm sóc khách hàng lớn tuổi:\n",
    "- Đưa ra các gói dịch vụ thiết yếu ưu đãi cho người lớn tuổi (vd Internet + Điện thoại + Tech support) để thu hút khách hàng\n",
    "- Khuyến mãi hoặc giảm giá các dịch vụ có ích cho người lớn tuổi như Tech support và Online security để tăng giá trị cho khách hàng\n",
    "\n",
    "#### Gợi ý về chăm sóc khách hàng trẻ tuổi:\n",
    "- Ưu đãi lắp đặt internet để tăng phủ sóng internet cho khách hàng\n",
    "- Đưa ra các gói dịch vụ ưu đãi cho người trẻ (VD Internet + Streaming TV + Streaming Movies) để thu hút khách hàng"
   ]
  },
  {
   "cell_type": "markdown",
   "id": "f397a8fa",
   "metadata": {},
   "source": [
    "## Nhìn lại quá trình làm đồ án \n",
    "\n",
    "- Cần tìm hiểu kĩ nguồn gốc data hơn\n",
    "- Nên áp dụng một thuật toán vào phân tích dữ liệu để có thể đưa ra thêm giải pháp"
   ]
  },
  {
   "cell_type": "markdown",
   "id": "5a86d9ed",
   "metadata": {},
   "source": [
    "## Tài liệu tham khảo\n",
    "- Kaggle ([Telco Customer Churn](https://www.kaggle.com/blastchar/telco-customer-churn))\n",
    "- https://matplotlib.org/\n",
    "- https://pandas.pydata.org/"
   ]
  }
 ],
 "metadata": {
  "kernelspec": {
   "display_name": "Python 3",
   "language": "python",
   "name": "python3"
  },
  "language_info": {
   "codemirror_mode": {
    "name": "ipython",
    "version": 3
   },
   "file_extension": ".py",
   "mimetype": "text/x-python",
   "name": "python",
   "nbconvert_exporter": "python",
   "pygments_lexer": "ipython3",
   "version": "3.8.8"
  }
 },
 "nbformat": 4,
 "nbformat_minor": 5
}
